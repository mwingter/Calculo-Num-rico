{
  "nbformat": 4,
  "nbformat_minor": 0,
  "metadata": {
    "colab": {
      "name": "Calculonumerico.ipynb",
      "provenance": [],
      "collapsed_sections": [],
      "include_colab_link": true
    },
    "kernelspec": {
      "name": "python3",
      "display_name": "Python 3"
    },
    "accelerator": "GPU"
  },
  "cells": [
    {
      "cell_type": "markdown",
      "metadata": {
        "id": "view-in-github",
        "colab_type": "text"
      },
      "source": [
        "<a href=\"https://colab.research.google.com/github/mwingter/Calculo-Numerico/blob/master/Trabalho/Calculonumerico.ipynb\" target=\"_parent\"><img src=\"https://colab.research.google.com/assets/colab-badge.svg\" alt=\"Open In Colab\"/></a>"
      ]
    },
    {
      "cell_type": "markdown",
      "metadata": {
        "id": "z6j8Q6bb72en",
        "colab_type": "text"
      },
      "source": [
        "# **MÉTODO DE RESOLUÇÃO DE SISTEMAS LINEARES**"
      ]
    },
    {
      "cell_type": "markdown",
      "metadata": {
        "id": "Mj73WTYiKfvY",
        "colab_type": "text"
      },
      "source": [
        "Importações para rodar as bibliotecas necessárias --------------------------------------------\n"
      ]
    },
    {
      "cell_type": "code",
      "metadata": {
        "id": "rBFUoxm3KIZd",
        "colab_type": "code",
        "colab": {}
      },
      "source": [
        "import numpy as np"
      ],
      "execution_count": 1,
      "outputs": []
    },
    {
      "cell_type": "code",
      "metadata": {
        "id": "IxEx5MLnK772",
        "colab_type": "code",
        "colab": {}
      },
      "source": [
        "n = 4 #dimensão do sistema\n",
        "A = np.array([[1,1,0,3],[2,1,-1,1],[3,-1,-1,2],[-1,2,3,-1]]) #matrix do sistema linear\n",
        "b = np.array([4,1,-3,4]) #vetor solução"
      ],
      "execution_count": 2,
      "outputs": []
    },
    {
      "cell_type": "markdown",
      "metadata": {
        "id": "TF0UkS85sbju",
        "colab_type": "text"
      },
      "source": [
        "Método Direto"
      ]
    },
    {
      "cell_type": "markdown",
      "metadata": {
        "id": "QUnmxRK2Kv23",
        "colab_type": "text"
      },
      "source": [
        "**I) Eliminação de Gauss --------------------** \n",
        "\n"
      ]
    },
    {
      "cell_type": "code",
      "metadata": {
        "id": "Dr9vs1EqN0RN",
        "colab_type": "code",
        "colab": {}
      },
      "source": [
        "def elimination(A, b, n):\n",
        "  for i in range(n):\n",
        "    pivot = A[i][i]\n",
        "    for k in range(i+1,n):\n",
        "      Mik = A[k][i] / pivot\n",
        "      b[k] = b[k] - Mik * b[i]\n",
        "      A[k] = A[k] - Mik * A[i] \n",
        "  \n",
        "  return A, b"
      ],
      "execution_count": 3,
      "outputs": []
    },
    {
      "cell_type": "code",
      "metadata": {
        "id": "yHChK5lca3CE",
        "colab_type": "code",
        "colab": {}
      },
      "source": [
        "def retro_substitution(A, b, n):\n",
        "  x = np.zeros(n)\n",
        "  for i in range(n-1, -1,-1):\n",
        "    x[i] = b[i]\n",
        "    sum = 0 \n",
        "    j = n-1\n",
        "    while (j>i):\n",
        "      sum = sum + A[i][j] * x[j]\n",
        "      j = j-1  \n",
        "    x[i] = (x[i] - sum)/A[i][i]\n",
        "  \n",
        "  return x"
      ],
      "execution_count": 4,
      "outputs": []
    },
    {
      "cell_type": "code",
      "metadata": {
        "id": "tFcc20E9WM7E",
        "colab_type": "code",
        "colab": {
          "base_uri": "https://localhost:8080/",
          "height": 34
        },
        "outputId": "799095db-297f-4ff0-d971-f24743c49f57"
      },
      "source": [
        "def gauss_elimination (A, b, n):\n",
        "  C, blinha = elimination(A,b,n)\n",
        "  x = retro_substitution(C,blinha,n)\n",
        "  print(\"Resposta do sistema linear:\", x)\n",
        "\n",
        "gauss_elimination(A, b, n)"
      ],
      "execution_count": 5,
      "outputs": [
        {
          "output_type": "stream",
          "text": [
            "Resposta do sistema linear: [-1.  2.  0.  1.]\n"
          ],
          "name": "stdout"
        }
      ]
    },
    {
      "cell_type": "markdown",
      "metadata": {
        "id": "pJ9KWaqasVsb",
        "colab_type": "text"
      },
      "source": [
        "Métodos Iterativos"
      ]
    },
    {
      "cell_type": "markdown",
      "metadata": {
        "id": "bo_6a-n58PJJ",
        "colab_type": "text"
      },
      "source": [
        "**II) Método de Gauss-Jacobi --------------------**\n"
      ]
    },
    {
      "cell_type": "code",
      "metadata": {
        "id": "5kPROCwZsT48",
        "colab_type": "code",
        "colab": {}
      },
      "source": [
        "n = 3 #dimensão do sistema\n",
        "A = np.array([[6,3,1],[4,9,-3],[1,-1,3]]) #matrix do sistema linear\n",
        "b = np.array([10,16,14]) #vetor solução\n",
        "x0 = np.array([-1.8,5.5,7.3]) # chute inicial\n",
        "x = np.vstack((x0,np.zeros(3)))\n",
        "epsilon = 0.1 #erro\n",
        "limit = 100 #limite de iteracao"
      ],
      "execution_count": 6,
      "outputs": []
    },
    {
      "cell_type": "code",
      "metadata": {
        "id": "9kW0mdTN1ORw",
        "colab_type": "code",
        "colab": {}
      },
      "source": [
        "def gauss_jacobi(A,b,x,n):\n",
        "  k = 1\n",
        "  while (np.max(np.abs(x[1]-x[0])) > epsilon) and (k < limit):\n",
        "    if (k!=1): x[0] = x[1]\n",
        "    for i in range(n):\n",
        "      sum = 0 \n",
        "      for j in range(n):\n",
        "        if j != i: \n",
        "          sum = sum + (A[i][j] * x[0][j])\n",
        "      x[1][i] = ((b[i] - sum) / A[i][i])\n",
        "    k = k + 1\n",
        "    print(np.max(np.abs(x[1]-x[0])))\n",
        "  return x[1]"
      ],
      "execution_count": 7,
      "outputs": []
    },
    {
      "cell_type": "markdown",
      "metadata": {
        "id": "13yl9xVEsPSB",
        "colab_type": "text"
      },
      "source": [
        "**III) Método de Gauss-Seidel --------------------**"
      ]
    },
    {
      "cell_type": "code",
      "metadata": {
        "id": "8NY_0dx-bzB4",
        "colab_type": "code",
        "colab": {}
      },
      "source": [
        "n = 4 #dimensão do sistema\n",
        "A = np.array([[2.0,-1.0,0,0],[1.0,2.0,-1.0,0],[0,-1.0,2.0,-1.0],[0,0,-1.0,2.0]]) #matriz\n",
        "b = np.array([1,1,1,1]) #vetor b\n",
        "xi = np.array([1.0,1.0,1.0,1.0]) #vetor aproximação inicial\n",
        "x = np.array([1.0,1.0,1.0,1.0]) #vetor aproximação\n",
        "e = 0.001 #erro"
      ],
      "execution_count": 8,
      "outputs": []
    },
    {
      "cell_type": "code",
      "metadata": {
        "id": "jP5U2Lbkaxs1",
        "colab_type": "code",
        "colab": {}
      },
      "source": [
        "def iteration(A, b, xi, x, n): ##iteração k, em que se calcula os valores do array x\n",
        "    for i in range(n):\n",
        "        sum1 = 0 \n",
        "        sum2 = 0\n",
        "        for j in range(0, i):\n",
        "            sum1 = sum1 + A[i][j] * x[j]\n",
        "        for j in range (i+1, n):\n",
        "            sum2 = sum2 + A[i][j] * xi[j]\n",
        "        x[i] = (1/A[i][i]) * (b[i] - sum1 - sum2)"
      ],
      "execution_count": 9,
      "outputs": []
    },
    {
      "cell_type": "code",
      "metadata": {
        "id": "5aqYd8r7a4XQ",
        "colab_type": "code",
        "colab": {}
      },
      "source": [
        "def stopCriteria(x, xi, n, e): #Critério de parada. Se retornar true, o critério foi satisfeito; se false, não foi.\n",
        "    max = -99999\n",
        "    for i in range(n):\n",
        "        tot = abs(x[i] - xi[i])\n",
        "        if(max < tot):\n",
        "            max = tot\n",
        "    if(max < e):\n",
        "        return True\n",
        "    else:\n",
        "        return False"
      ],
      "execution_count": 10,
      "outputs": []
    },
    {
      "cell_type": "code",
      "metadata": {
        "id": "di9GsNSIa_Rv",
        "colab_type": "code",
        "colab": {}
      },
      "source": [
        "def gauss_seidel(A, b, xi, x, e, n):\n",
        "    k = 1 #contador de iterações\n",
        "    while(k < 25): # limite máximo de iterações\n",
        "        iteration(A, b, xi, x, n)\n",
        "        if(stopCriteria(x, xi, n, e)):\n",
        "            return x\n",
        "        else:\n",
        "            k = k + 1\n",
        "            for i in range(n):\n",
        "                xi[i] = x[i]"
      ],
      "execution_count": 11,
      "outputs": []
    },
    {
      "cell_type": "code",
      "metadata": {
        "id": "A9XcE5XcbAmQ",
        "colab_type": "code",
        "colab": {}
      },
      "source": [
        "#print(\"Resposta do método Gauss-Seidel:\", gauss_seidel(A, b, xi, x, e, n))"
      ],
      "execution_count": 12,
      "outputs": []
    },
    {
      "cell_type": "markdown",
      "metadata": {
        "colab_type": "text",
        "id": "xlAPEuoI-5Qq"
      },
      "source": [
        "# **MÉTODO DOS MÍNIMOS QUADRADOS**"
      ]
    },
    {
      "cell_type": "code",
      "metadata": {
        "id": "ifupVQMU_IVJ",
        "colab_type": "code",
        "colab": {}
      },
      "source": [
        "f = np.array([0.459,0.828,1.006,1.150,1.354,1.261,1.157,0.834,0.511]) #vetor de valores f\n",
        "M = np.array([[0.01,0.04,0.09,0.16,0.25,0.36,0.49,0.64,0.81],[0.1,0.2,0.3,0.4,0.5,0.6,0.7,0.8,0.9],[1,1,1,1,1,1,1,1,1]]) #matriz com os n vetores hk\n",
        "n = 3 #dimensão da matriz simétrica A"
      ],
      "execution_count": 13,
      "outputs": []
    },
    {
      "cell_type": "code",
      "metadata": {
        "id": "NrGJooRL_Ka3",
        "colab_type": "code",
        "colab": {}
      },
      "source": [
        "def min_quadrados(f, M, n):\n",
        "    A = np.zeros((n,n)) # matriz n x n cheia de zeros\n",
        "    b = np.zeros(n) #vetor b de tamanho n cheia de zeros\n",
        "    for i in range(n):\n",
        "        for j in range(i+1):\n",
        "            A[i][j] = round(np.dot(M[i],M[j]), 3) # np.dot calcula o produto escalar entre dois vetores\n",
        "            A[j][i] = round(np.dot(M[i],M[j]), 3)\n",
        "    \n",
        "    for i in range(n):\n",
        "        b[i] = round(np.dot(f,M[i]), 3)\n",
        "\n",
        "    print(A)\n",
        "    print(\"\\n\", b)\n",
        "\n",
        "    # utilizando o método de resolução de sistemas lineares  \n",
        "    # para encontrar os coeficientes da solução\n",
        "    return gauss_elimination(A, b, n)"
      ],
      "execution_count": 14,
      "outputs": []
    },
    {
      "cell_type": "code",
      "metadata": {
        "id": "Xt0H0cqk_So7",
        "colab_type": "code",
        "colab": {
          "base_uri": "https://localhost:8080/",
          "height": 134
        },
        "outputId": "15e74c67-df62-4499-d04a-7a81b6905168"
      },
      "source": [
        "print(min_quadrados(f, M, n))"
      ],
      "execution_count": 15,
      "outputs": [
        {
          "output_type": "stream",
          "text": [
            "[[1.533 2.025 2.85 ]\n",
            " [2.025 2.85  4.5  ]\n",
            " [2.85  4.5   9.   ]]\n",
            "\n",
            " [2.619 4.344 8.56 ]\n",
            "Resposta do sistema linear: [-5.10382514  5.2104918  -0.0379235 ]\n",
            "None\n"
          ],
          "name": "stdout"
        }
      ]
    }
  ]
}