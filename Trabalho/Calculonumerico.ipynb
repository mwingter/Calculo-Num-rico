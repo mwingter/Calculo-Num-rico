{
  "nbformat": 4,
  "nbformat_minor": 0,
  "metadata": {
    "colab": {
      "name": "Calculonumerico.ipynb",
      "provenance": [],
      "collapsed_sections": [
        "C_c6tAB2OWbL",
        "xaSl0vWOPEjs",
        "K3aC2uo8PFGI",
        "rwz-0b-imRkr",
        "QOaDCgNWPP6k",
        "oLobJZ3rPPzH"
      ],
      "include_colab_link": true
    },
    "kernelspec": {
      "name": "python3",
      "display_name": "Python 3"
    },
    "accelerator": "GPU"
  },
  "cells": [
    {
      "cell_type": "markdown",
      "metadata": {
        "id": "view-in-github",
        "colab_type": "text"
      },
      "source": [
        "<a href=\"https://colab.research.google.com/github/mwingter/Calculo-Numerico/blob/master/Trabalho/Calculonumerico.ipynb\" target=\"_parent\"><img src=\"https://colab.research.google.com/assets/colab-badge.svg\" alt=\"Open In Colab\"/></a>"
      ]
    },
    {
      "cell_type": "markdown",
      "metadata": {
        "id": "IKokkAsd7wHC",
        "colab_type": "text"
      },
      "source": [
        "***Grupo:***  \n",
        "*João Reis, 9293373  \n",
        "Michelle Wingter da Silva, 10783243*"
      ]
    },
    {
      "cell_type": "markdown",
      "metadata": {
        "id": "sM6DCsUP7DOR",
        "colab_type": "text"
      },
      "source": [
        "# **Cálculo Numérico - SME0104 - 2020**\n",
        "---\n",
        "\n"
      ]
    },
    {
      "cell_type": "markdown",
      "metadata": {
        "id": "Mj73WTYiKfvY",
        "colab_type": "text"
      },
      "source": [
        "- Importações para rodar as bibliotecas necessárias --------------------------------------------\n"
      ]
    },
    {
      "cell_type": "code",
      "metadata": {
        "id": "rBFUoxm3KIZd",
        "colab_type": "code",
        "colab": {}
      },
      "source": [
        "import numpy as np\n",
        "import timeit\n",
        "import time\n",
        "import matplotlib.pyplot as plt"
      ],
      "execution_count": null,
      "outputs": []
    },
    {
      "cell_type": "markdown",
      "metadata": {
        "id": "z6j8Q6bb72en",
        "colab_type": "text"
      },
      "source": [
        "## **MÉTODO DE RESOLUÇÃO DE SISTEMAS LINEARES**"
      ]
    },
    {
      "cell_type": "markdown",
      "metadata": {
        "id": "C_c6tAB2OWbL",
        "colab_type": "text"
      },
      "source": [
        "### **1. Teoria**"
      ]
    },
    {
      "cell_type": "markdown",
      "metadata": {
        "id": "8aM-_NLxtMy3",
        "colab_type": "text"
      },
      "source": [
        "---\n",
        "\n",
        "\n",
        "\n",
        "\n",
        "Utilizada nos mais diversos campos da ciência, sendo extremamente útil para resolver problemas relacionados a balanceamento de equações químicas, trâfego nas cidades e de redes e circuitos elétricos, os sistemas lineares são um conjunto de m equações lineares com n variaveis da seguinte forma:\n",
        "\n",
        "$S =\n",
        "  \\begin{cases}\n",
        "    a_{1,1}x_1 + a_{1,2}x_1 + ... + a_{1,n}x_n = b_1  \\\\\n",
        "    a_{2,1}x_1 + a_{2,2}x_1 + ... + a_{2,n}x_n = b_2  \\\\ \n",
        "    ...            \\\\\n",
        "    a_{m,1}x_1 + a_{m,2}x_1 + ... + a_{m,n}x_n = b_m  \\\\\n",
        "  \\end{cases}\n",
        "$\n",
        "\n",
        "onde $ a_{i,j}, b_i \\in \\Re$ para $ 1 \\leq i \\leq m$ e $1\\leq j \\leq n$ e também pode ser descrito por Ax = b, onde x são as soluções. \n",
        "\n",
        "\n",
        "Este trabalho visa estudar alguns métodos numéricos utilizados para resolver sistemas lineares de uma maneira prática e rápida, possibilitando assim determinar a resposta de sistemas mais complexos. Esses métodos podem ser divididos em dois tipos: os métodos diretos, onde a solução é encontrada após um número determinado de passos e de forma exata, e os métodos indiretos, onde a solução é calculada a cada iteração, a partir de um palpite inicial, de forma com que forme uma sequência que acaba convergindo para a resposta correta. \n",
        "\n",
        "\n",
        "---\n",
        "\n",
        "\n",
        "\n",
        "Para entender como cada método funciona primeiro é preciso explicar alguns conceitos e teorias utilizados por eles. Como mostrado antes, é possível escrever S na forma matricial Ax = b, onde A é a matriz dos coeficientes das equações, x é o vetor das incognitas e b o vetor de resposta.\n",
        "\n",
        "$A_{m,n} = \n",
        " \\begin {pmatrix}\n",
        "  a_{1,1} & a_{1,2} & \\cdots & a_{1,n} \\\\\n",
        "  a_{2,1} & a_{2,2} & \\cdots & a_{2,n} \\\\\n",
        "  \\vdots  & \\vdots  & \\ddots & \\vdots  \\\\\n",
        "  a_{m,1} & a_{m,2} & \\cdots & a_{m,n}\n",
        " \\end{pmatrix}$\n",
        " \n",
        " \n",
        "  $x_n =\n",
        " \\begin{pmatrix}\n",
        "  x_1  \\\\\n",
        "  x_2  \\\\\n",
        "  \\vdots    \\\\\n",
        "  x_n \n",
        " \\end{pmatrix}$\n",
        "\n",
        " $b_n =\n",
        " \\begin{pmatrix}\n",
        "  b_1  \\\\\n",
        "  b_2  \\\\\n",
        "  \\vdots    \\\\\n",
        "  b_m \n",
        " \\end{pmatrix}$\n",
        "\n",
        "\n",
        "\n",
        "\n",
        "\n",
        "\n",
        "---\n",
        "\n",
        "\n",
        "\n"
      ]
    },
    {
      "cell_type": "markdown",
      "metadata": {
        "id": "Mxb_vO9lO7X1",
        "colab_type": "text"
      },
      "source": [
        "Códigos em latex para matemática\n",
        "\n",
        "\\begin{align}\n",
        "  3x_1+x_2-x_3&=1 \\\\\n",
        "2x_2-x_3&=0\\\\\n",
        "x_2+x_3&=6\n",
        "\\end{align}\n",
        "ou este\n",
        "\\begin{align}\n",
        "  3x_1+x_2-x_3&=1 \\\\\n",
        "2x_2-x_3&=0\\\\\n",
        "x_3&=4\n",
        "\\end{align}\n",
        "\n",
        "\n",
        "$S_{m,n} =\n",
        " \\begin{pmatrix}\n",
        "  a_{1,1} & a_{1,2} & \\cdots & a_{1,n} \\\\\n",
        "  a_{2,1} & a_{2,2} & \\cdots & a_{2,n} \\\\\n",
        "  \\vdots  & \\vdots  & \\ddots & \\vdots  \\\\\n",
        "  a_{m,1} & a_{m,2} & \\cdots & a_{m,n}\n",
        " \\end{pmatrix}$\n",
        "\n",
        "\n",
        "\n",
        "\n",
        " [ f(n) =\n",
        "  \\begin{cases}\n",
        "    n/2       & \\quad \\text{if } n \\text{ is even}\\\\\n",
        "    -(n+1)/2  & \\quad \\text{if } n \\text{ is odd}\n",
        "  \\end{cases}\n",
        "\\]"
      ]
    },
    {
      "cell_type": "markdown",
      "metadata": {
        "colab_type": "text",
        "id": "wts_BWvxOo9T"
      },
      "source": [
        "### **2. Códigos**"
      ]
    },
    {
      "cell_type": "code",
      "metadata": {
        "id": "IxEx5MLnK772",
        "colab_type": "code",
        "colab": {}
      },
      "source": [
        "n = 4 #dimensão do sistema\n",
        "A = np.array([[1,1,0,3],[2,1,-1,1],[3,-1,-1,2],[-1,2,3,-1]]) #matrix do sistema linear\n",
        "b = np.array([4,1,-3,4]) #vetor solução"
      ],
      "execution_count": null,
      "outputs": []
    },
    {
      "cell_type": "markdown",
      "metadata": {
        "id": "TF0UkS85sbju",
        "colab_type": "text"
      },
      "source": [
        "- Método Direto"
      ]
    },
    {
      "cell_type": "markdown",
      "metadata": {
        "id": "QUnmxRK2Kv23",
        "colab_type": "text"
      },
      "source": [
        "**I) Eliminação de Gauss --------------------** \n",
        "\n"
      ]
    },
    {
      "cell_type": "code",
      "metadata": {
        "id": "Dr9vs1EqN0RN",
        "colab_type": "code",
        "colab": {}
      },
      "source": [
        "def elimination(A, b, n):\n",
        "  for i in range(n):\n",
        "    pivot = A[i][i]\n",
        "    for k in range(i+1,n):\n",
        "      Mik = A[k][i] / pivot\n",
        "      b[k] = b[k] - Mik * b[i]\n",
        "      A[k] = A[k] - Mik * A[i] \n",
        "  \n",
        "  return A, b"
      ],
      "execution_count": null,
      "outputs": []
    },
    {
      "cell_type": "code",
      "metadata": {
        "id": "yHChK5lca3CE",
        "colab_type": "code",
        "colab": {}
      },
      "source": [
        "def retro_substitution(A, b, n):\n",
        "  x = np.zeros(n)\n",
        "  for i in range(n-1, -1,-1):\n",
        "    x[i] = b[i]\n",
        "    sum = 0 \n",
        "    j = n-1\n",
        "    while (j>i):\n",
        "      sum = sum + A[i][j] * x[j]\n",
        "      j = j-1  \n",
        "    x[i] = (x[i] - sum)/A[i][i]\n",
        "  \n",
        "  return x"
      ],
      "execution_count": null,
      "outputs": []
    },
    {
      "cell_type": "code",
      "metadata": {
        "id": "tFcc20E9WM7E",
        "colab_type": "code",
        "colab": {}
      },
      "source": [
        "def gauss_elimination(A, b, n):\n",
        "  C, blinha = elimination(A,b,n)\n",
        "  x = retro_substitution(C,blinha,n)\n",
        "  return x"
      ],
      "execution_count": null,
      "outputs": []
    },
    {
      "cell_type": "code",
      "metadata": {
        "id": "ZDUJPFuW5X-k",
        "colab_type": "code",
        "colab": {
          "base_uri": "https://localhost:8080/",
          "height": 34
        },
        "outputId": "37c77947-df51-45d0-d1ae-19f2acf25f2d"
      },
      "source": [
        "print(\"Resposta do sistema linear:\", gauss_elimination(A, b, n))"
      ],
      "execution_count": null,
      "outputs": [
        {
          "output_type": "stream",
          "text": [
            "Resposta do sistema linear: [-1.  2.  0.  1.]\n"
          ],
          "name": "stdout"
        }
      ]
    },
    {
      "cell_type": "markdown",
      "metadata": {
        "id": "pJ9KWaqasVsb",
        "colab_type": "text"
      },
      "source": [
        "- Métodos Iterativos"
      ]
    },
    {
      "cell_type": "markdown",
      "metadata": {
        "id": "bo_6a-n58PJJ",
        "colab_type": "text"
      },
      "source": [
        "**II) Método de Gauss-Jacobi --------------------**\n"
      ]
    },
    {
      "cell_type": "code",
      "metadata": {
        "id": "5kPROCwZsT48",
        "colab_type": "code",
        "colab": {}
      },
      "source": [
        "n = 3 #dimensão do sistema\n",
        "A = np.array([[6,3,1],[4,9,-3],[1,-1,3]]) #matrix do sistema linear\n",
        "b = np.array([10,16,14]) #vetor solução\n",
        "x0 = np.array([-1.8,5.5,7.3]) # chute inicial\n",
        "x = np.vstack((x0,np.zeros(3)))\n",
        "epsilon = 0.1 #erro\n",
        "limit = 100 #limite de iteracao"
      ],
      "execution_count": null,
      "outputs": []
    },
    {
      "cell_type": "code",
      "metadata": {
        "id": "9kW0mdTN1ORw",
        "colab_type": "code",
        "colab": {}
      },
      "source": [
        "def gauss_jacobi(A,b,x,n,e):\n",
        "  k = 1\n",
        "  while (np.max(np.abs(x[1]-x[0])) > e) and (k < limit):\n",
        "    if (k!=1): x[0] = x[1]\n",
        "    for i in range(n):\n",
        "      sum = 0 \n",
        "      for j in range(n):\n",
        "        if j != i: \n",
        "          sum = sum + (A[i][j] * x[0][j])\n",
        "      x[1][i] = ((b[i] - sum) / A[i][i])\n",
        "    k = k + 1\n",
        "    print(np.max(np.abs(x[1]-x[0])))\n",
        "  return x[1]"
      ],
      "execution_count": null,
      "outputs": []
    },
    {
      "cell_type": "code",
      "metadata": {
        "id": "QCozg8K-h-7a",
        "colab_type": "code",
        "colab": {
          "base_uri": "https://localhost:8080/",
          "height": 118
        },
        "outputId": "319e81e9-def0-4827-cc00-e3d6b651771b"
      },
      "source": [
        "%%timeit\n",
        "gauss_jacobi(A,b,x,n,epsilon)"
      ],
      "execution_count": null,
      "outputs": [
        {
          "output_type": "stream",
          "text": [
            "0.5000000000000002\n",
            "0.2777777777777781\n",
            "0.12222222222222268\n",
            "0.06790123456790154\n",
            "The slowest run took 341.21 times longer than the fastest. This could mean that an intermediate result is being cached.\n",
            "100000 loops, best of 3: 8.22 µs per loop\n"
          ],
          "name": "stdout"
        }
      ]
    },
    {
      "cell_type": "markdown",
      "metadata": {
        "id": "13yl9xVEsPSB",
        "colab_type": "text"
      },
      "source": [
        "**III) Método de Gauss-Seidel --------------------**"
      ]
    },
    {
      "cell_type": "code",
      "metadata": {
        "id": "8NY_0dx-bzB4",
        "colab_type": "code",
        "colab": {}
      },
      "source": [
        "n = 4 #dimensão do sistema\n",
        "A = np.array([[2.0,-1.0,0,0],[1.0,2.0,-1.0,0],[0,-1.0,2.0,-1.0],[0,0,-1.0,2.0]]) #matriz\n",
        "b = np.array([1,1,1,1]) #vetor b\n",
        "xi = np.array([1.0,1.0,1.0,1.0]) #vetor aproximação inicial\n",
        "x = np.array([1.0,1.0,1.0,1.0]) #vetor aproximação\n",
        "e = 0.001 #erro"
      ],
      "execution_count": null,
      "outputs": []
    },
    {
      "cell_type": "code",
      "metadata": {
        "id": "jP5U2Lbkaxs1",
        "colab_type": "code",
        "colab": {}
      },
      "source": [
        "def iteration(A, b, xi, x, n): ##iteração k, em que se calcula os valores do array x\n",
        "    for i in range(n):\n",
        "        sum1 = 0 \n",
        "        sum2 = 0\n",
        "        for j in range(0, i):\n",
        "            sum1 = sum1 + A[i][j] * x[j]\n",
        "        for j in range (i+1, n):\n",
        "            sum2 = sum2 + A[i][j] * xi[j]\n",
        "        x[i] = (1/A[i][i]) * (b[i] - sum1 - sum2)"
      ],
      "execution_count": null,
      "outputs": []
    },
    {
      "cell_type": "code",
      "metadata": {
        "id": "5aqYd8r7a4XQ",
        "colab_type": "code",
        "colab": {}
      },
      "source": [
        "def stopCriteria(x, xi, n, e): #Critério de parada. Se retornar true, o critério foi satisfeito; se false, não foi.\n",
        "    max = -99999\n",
        "    for i in range(n):\n",
        "        tot = abs(x[i] - xi[i])\n",
        "        if(max < tot):\n",
        "            max = tot\n",
        "    if(max < e):\n",
        "        return True\n",
        "    else:\n",
        "        return False"
      ],
      "execution_count": null,
      "outputs": []
    },
    {
      "cell_type": "code",
      "metadata": {
        "id": "di9GsNSIa_Rv",
        "colab_type": "code",
        "colab": {}
      },
      "source": [
        "def gauss_seidel(A, b, xi, x, e, n):\n",
        "    k = 1 #contador de iterações\n",
        "    while(k < 25): # limite máximo de iterações\n",
        "        iteration(A, b, xi, x, n)\n",
        "        if (stopCriteria(x, xi, n, e)):\n",
        "            return x\n",
        "        else:\n",
        "            k = k + 1\n",
        "            for i in range(n):\n",
        "                xi[i] = x[i]"
      ],
      "execution_count": null,
      "outputs": []
    },
    {
      "cell_type": "code",
      "metadata": {
        "id": "A9XcE5XcbAmQ",
        "colab_type": "code",
        "colab": {}
      },
      "source": [
        "#print(\"Resposta do método Gauss-Seidel:\", gauss_seidel(A, b, xi, x, e, n))"
      ],
      "execution_count": null,
      "outputs": []
    },
    {
      "cell_type": "markdown",
      "metadata": {
        "colab_type": "text",
        "id": "dXyG7du3OpFn"
      },
      "source": [
        "### **3. Aplicação**"
      ]
    },
    {
      "cell_type": "code",
      "metadata": {
        "id": "7xP8aS48keVm",
        "colab_type": "code",
        "colab": {}
      },
      "source": [
        "def random_matrix_vectors(n):\n",
        "  A =  np.random.rand(n,n)\n",
        "  b = np.random.rand(n)\n",
        "  return A,b"
      ],
      "execution_count": null,
      "outputs": []
    },
    {
      "cell_type": "code",
      "metadata": {
        "id": "AT-zwbKJkIGO",
        "colab_type": "code",
        "colab": {}
      },
      "source": [
        "for i in range(3,300):\n",
        "  e = 10e-5\n",
        "  A,b = random_matrix_vectors(i)\n",
        "  #metodo direto\n",
        "  gauss_elimination(A,b,i)\n",
        "  #metodos iterativos\n",
        "  x = np.ones(i)\n",
        "  gauss_jacobi(A,b,x,i,e)\n",
        "  gauss_seidel(A,b,x,x,e,i)"
      ],
      "execution_count": null,
      "outputs": []
    },
    {
      "cell_type": "code",
      "metadata": {
        "id": "86Tng8DDzE_f",
        "colab_type": "code",
        "colab": {}
      },
      "source": [
        "inicio = time.time()\n",
        "random_matrix_vectors(100)\n",
        "fim = time.time()"
      ],
      "execution_count": null,
      "outputs": []
    },
    {
      "cell_type": "code",
      "metadata": {
        "id": "2YxAZvRQ4QOF",
        "colab_type": "code",
        "colab": {
          "base_uri": "https://localhost:8080/",
          "height": 34
        },
        "outputId": "e1b72041-ba1a-4d64-a453-52530402daf9"
      },
      "source": [
        "fim - inicio"
      ],
      "execution_count": null,
      "outputs": [
        {
          "output_type": "execute_result",
          "data": {
            "text/plain": [
              "0.0002815723419189453"
            ]
          },
          "metadata": {
            "tags": []
          },
          "execution_count": 18
        }
      ]
    },
    {
      "cell_type": "code",
      "metadata": {
        "id": "NaWYlJps3_Lv",
        "colab_type": "code",
        "colab": {
          "base_uri": "https://localhost:8080/",
          "height": 235
        },
        "outputId": "ac7f8e90-de31-4935-c207-496bcf082172"
      },
      "source": [
        "A"
      ],
      "execution_count": null,
      "outputs": [
        {
          "output_type": "execute_result",
          "data": {
            "text/plain": [
              "array([[ 7.07965919e-01,  7.68692389e-01,  4.74975806e-02, ...,\n",
              "         8.52307613e-01,  9.95936062e-01,  7.87715449e-02],\n",
              "       [ 0.00000000e+00,  7.45124346e-02,  4.85499611e-01, ...,\n",
              "        -2.85211035e-01, -6.22242957e-01,  6.47233230e-01],\n",
              "       [ 0.00000000e+00,  0.00000000e+00, -6.69698947e-01, ...,\n",
              "        -1.78880377e-01,  6.55092548e-01, -8.26878177e-01],\n",
              "       ...,\n",
              "       [ 2.72054872e-16,  2.53815132e-16, -1.61214751e-15, ...,\n",
              "        -1.26784676e-01, -1.58041810e+00,  5.18240020e+00],\n",
              "       [ 4.60781749e-15,  4.24159184e-15, -2.59830853e-14, ...,\n",
              "         0.00000000e+00, -2.41963336e+01,  8.39067859e+01],\n",
              "       [-2.19760995e-15, -9.61324534e-16,  4.36935709e-15, ...,\n",
              "         0.00000000e+00,  0.00000000e+00, -1.75716293e+01]])"
            ]
          },
          "metadata": {
            "tags": []
          },
          "execution_count": 19
        }
      ]
    },
    {
      "cell_type": "markdown",
      "metadata": {
        "colab_type": "text",
        "id": "xlAPEuoI-5Qq"
      },
      "source": [
        "## **MÉTODO DOS MÍNIMOS QUADRADOS**"
      ]
    },
    {
      "cell_type": "markdown",
      "metadata": {
        "colab_type": "text",
        "id": "xaSl0vWOPEjs"
      },
      "source": [
        "### **1. Teoria**"
      ]
    },
    {
      "cell_type": "markdown",
      "metadata": {
        "id": "2FDVn-L6P5I1",
        "colab_type": "text"
      },
      "source": [
        "Muitos problemas do dia-a-dia possuem erros, ou seja, valores incorretos gerados pelas coletas experimentais do problema a ser resolvido. O método dos mínimos quadrados veio da necessidade desses casos, em que precisamos aproximar valores para a função fora de um intervalo tabelado, ou ajustar pontos tirados de algum experimento. Por exemplo, em física experimental, ele considera os erros de medição.\n",
        " \n",
        "Assim, o problema que iremos resolver com o método dos mínimos quadrados é obter, dado um conjunto de funções conhecidas, a melhor reta ou curva que aproxima essas funções.\n",
        " \n",
        "Sendo assim, dados $m$ pontos de $f(x)$ em uma tabela contidos em um intervalo $[a,b]$, o método consiste em escolhermos $n$ (onde $n < m$) funções contínuas em $[a,b]$ (denotaremos tais funções como $h_1(x), h_2(x), …, h_n(x)$ ) e obter $n$ constantes ($c_1, c_2, …, c_3$), de modo que o polinômio $p(x)$:    \n",
        " \n",
        "> $p(x) = c_1h_1(x) + c_2h_2(x) + … + c+nh_n(x)$ \n",
        " \n",
        "seja o mais próximo possível de $f(x)$, ou seja, queremos minimizar o desvio entre $f(x)$ e $p(x)$ de modo que o erro seja o menor possível. Para encontrar este erro, basta calcular: \n",
        " \n",
        "> $ min (\\sum_{k=1}^m(f(x_k) - p(x_k))^2) $\n",
        " \n",
        "Portanto, para encontrar o polinômio $p(x)$ basta calcular o sistema de equações lineares do tipo $Ax=b$ abaixo:\n",
        " \n",
        "> $ \\begin{bmatrix}  \n",
        "      \\langle \\overline{h_1},\\overline{h_1}  \\rangle & \\langle \\overline{h_1},\\overline{h_2}  \\rangle & ... & \\langle \\overline{h_1},\\overline{h_n}  \\rangle \\\\      \\langle \\overline{h_2},\\overline{h_1}  \\rangle & \\langle \\overline{h_2},\\overline{h_2}  \\rangle & ... & \\langle \\overline{h_2},\\overline{h_n}  \\rangle \\\\ ... & ... & ... & ...\\\\\n",
        "       \\langle \\overline{h_n},\\overline{h_1}  \\rangle & \\langle \\overline{h_n},\\overline{h_2}  \\rangle & ... & \\langle \\overline{h_n},\\overline{h_n}  \\rangle \\end{bmatrix}\n",
        "      \\begin{bmatrix} c_1 \\\\ c_2 \\\\ ... \\\\ c_3\\end{bmatrix} = \n",
        "      \\begin{bmatrix} \\langle \\overline{f},\\overline{h_1}  \\rangle \\\\ \\langle \\overline{f},\\overline{h_2}  \\rangle \\\\ .. \\\\ \\langle \\overline{f},\\overline{h_n}  \\rangle \\end{bmatrix}$\n",
        " \n",
        "que possui solução única ($c_1, c_2, ..., c_n$), onde $\\langle \\overline{a},\\overline{b}  \\rangle$ é o produto escalar de $a$ por $b$, e a matriz $A$ é simétrica $(n\\times n)$.\n",
        " \n",
        "**- Caso Não-Linear**\n",
        " \n",
        "Os casos acima são válidos para casos Lineares. No entanto, é possível também que os casos sejam não-lineares, e, para resolver isto, basta linearizá-los e então resolvê-los normalmente como mostrado acima. A forma de linearizar as funções depende do tipo do problema. Alguns casos de linearização são, por exemplo:\n",
        " \n",
        "> **1) $f(x) \\approx \\frac{1}{c_1 + c_2x} = p(x)$**\n",
        " \n",
        "$\\frac{1}{f(x)} \\approx c_1 + c_2 x = \\phi (x)$\n",
        " \n",
        " \n",
        "> **2) $f(x) \\approx c_1 e^{c_2 x} = p(x)$**\n",
        "\n",
        "$ln(f(x)) \\approx ln(c_1) + c_2 x = a_1 + a_2 x = \\phi (x)$\n",
        "\n",
        "Resolvendo este sistema linear, obtemos:\n",
        "\n",
        "$a_1 = ln(c_1) \\Longrightarrow c_1 = e^a_1$\n",
        "\n",
        "$a_2 = c_2 \\Longrightarrow c_2 = a_2$\n",
        " \n",
        " \n",
        "> **3) $f(x) \\approx c_1 c_2^x = p(x)$**\n",
        " \n",
        "$ln(f(x)) \\approx ln(c_1) + xln(c_2) = a_1 + a_2 x = \\phi (x)$ \n",
        " \n",
        "Resolvendo este sistema linear, obtemos:\n",
        " \n",
        "$a_1 = ln(c_1) \\Longrightarrow c_1 = e^{a_1}$\n",
        " \n",
        "$a_2 = ln(c_2) \\Longrightarrow c_2 = e^{a_2}$\n",
        " \n",
        " \n",
        "> **4) $f(x) \\approx c_1 x^{c_2} = p(x)$**\n",
        " \n",
        "$ln(f(x)) \\approx ln(c_1) + c_2 ln(x) = a_1 + a_2 ln(x) = \\phi (x)$\n",
        " \n",
        "Resolvendo este sistema linear, obtemos:\n",
        " \n",
        "$a_1 = ln(c_1) \\Longrightarrow c_1 = e^{a_1}$\n",
        " \n",
        "$a_2 = c_2$\n",
        " \n",
        "> **5) $f(x) \\approx \\sqrt{c_1 + c_2 x} = p(x)$**\n",
        " \n",
        "$[f(x)]^2 \\approx c_1 + c_2 x = \\phi (x)$\n",
        "\n",
        "> **6) $f(x) \\approx x ln(c_1 + c_1 x)$**\n",
        "\n",
        "$e^{\\frac{f(x)}{x}} = c_1 + c_2x = \\phi (x)$\n",
        "\n"
      ]
    },
    {
      "cell_type": "markdown",
      "metadata": {
        "colab_type": "text",
        "id": "K3aC2uo8PFGI"
      },
      "source": [
        "### **2. Códigos**"
      ]
    },
    {
      "cell_type": "code",
      "metadata": {
        "id": "ifupVQMU_IVJ",
        "colab_type": "code",
        "colab": {}
      },
      "source": [
        "f = np.array([0.459,0.828,1.006,1.150,1.354,1.261,1.157,0.834,0.511]) #vetor de valores f\n",
        "M = np.array([[0.01,0.04,0.09,0.16,0.25,0.36,0.49,0.64,0.81],[0.1,0.2,0.3,0.4,0.5,0.6,0.7,0.8,0.9],[1,1,1,1,1,1,1,1,1]]) #matriz com os n vetores hk\n",
        "n = 3 #dimensão da matriz simétrica A"
      ],
      "execution_count": null,
      "outputs": []
    },
    {
      "cell_type": "code",
      "metadata": {
        "id": "NrGJooRL_Ka3",
        "colab_type": "code",
        "colab": {}
      },
      "source": [
        "def min_quadrados(f, M, n):\n",
        "    A = np.zeros((n,n)) # matriz n x n cheia de zeros\n",
        "    b = np.zeros(n) #vetor b de tamanho n cheia de zeros\n",
        "    for i in range(n):\n",
        "        for j in range(i+1):\n",
        "            A[i][j] = round(np.dot(M[i],M[j]), 3) # np.dot calcula o produto escalar entre dois vetores\n",
        "            A[j][i] = round(np.dot(M[i],M[j]), 3)\n",
        "    \n",
        "    for i in range(n):\n",
        "        b[i] = round(np.dot(f,M[i]), 3)\n",
        "    \n",
        "    #print(\"A = \", A)\n",
        "    #print(\"b = \", b)\n",
        "\n",
        "    return A, b\n",
        "    # utilizando o método de resolução de sistemas lineares para encontrar os coeficientes da solução\n",
        "    #return gauss_elimination(A, b, n)"
      ],
      "execution_count": null,
      "outputs": []
    },
    {
      "cell_type": "code",
      "metadata": {
        "id": "Xt0H0cqk_So7",
        "colab_type": "code",
        "colab": {
          "base_uri": "https://localhost:8080/",
          "height": 84
        },
        "outputId": "41f04495-abee-4fcd-9e0c-20764cd192c4"
      },
      "source": [
        "A, b = min_quadrados(f,M,n)\n",
        "print(\"Sistema Linear da solução dos mínimos quadrados:\")\n",
        "print(\"A = \", A)\n",
        "print(\"B = \", b)\n",
        "\n",
        "#print(\"Resposta dos mínimos quadrados:\", min_quadrados(f, M, n))\n",
        "\n",
        "print(\"Solução do Sistema Linear:\", gauss_elimination(A, b, n))"
      ],
      "execution_count": null,
      "outputs": [
        {
          "output_type": "stream",
          "text": [
            "Sistema Linear da solução dos mínimos quadrados: [[1.533 2.025 2.85 ]\n",
            " [2.025 2.85  4.5  ]\n",
            " [2.85  4.5   9.   ]] [2.619 4.344 8.56 ]\n",
            "Solução do Sistema Linear: [-5.10382514  5.2104918  -0.0379235 ]\n"
          ],
          "name": "stdout"
        }
      ]
    },
    {
      "cell_type": "markdown",
      "metadata": {
        "colab_type": "text",
        "id": "sWWWUCs-PFK8"
      },
      "source": [
        "### **3. Aplicação**"
      ]
    },
    {
      "cell_type": "markdown",
      "metadata": {
        "id": "dOa7mULLnj5S",
        "colab_type": "text"
      },
      "source": [
        "**Aplicação 1)** Utilizando o método dos mínimos quadrados implementados para resolver o sistema linear abaixo:\n",
        "\n",
        "Aproximar a função $f(x) = e^x$ pela parábola $p(x) = c_1 x^2 + c_2 x + c_3$.\n",
        " \n",
        "Sendo: \n",
        " \n",
        "$h_1 (t) = t^2$\n",
        " \n",
        "$h_2 (t) = t$\n",
        " \n",
        "$h_1 (t) = 1$\n",
        " \n",
        "Temos que:\n",
        " \n",
        "$\\overline{h_1}= (0.01,0.04,0.09,0.16,0.25,0.36,0.49,0.64,0.81)$\n",
        " \n",
        "$\\overline{h_2}= (0.1,0.2,0.3,0.4,0.5,0.6,0.7,0.8,0.9)$\n",
        " \n",
        "$\\overline{h_3}= (1,1,1,1,1,1,1,1,1)$\n",
        " \n",
        "$\\overline{f} = (1.105,1.221,1.348,1.491,1.64,1.822,2.013,2.22,2.459)$\n",
        " \n",
        "Utilizando o método dos mínimos quadrados para chegar no sistema do tipo abaixo:\n",
        " \n",
        "> $ \\begin{bmatrix}  \n",
        "      \\langle \\overline{h_1},\\overline{h_1}  \\rangle & \\langle \\overline{h_1},\\overline{h_2}  \\rangle & ... & \\langle \\overline{h_1},\\overline{h_n}  \\rangle \\\\      \\langle \\overline{h_2},\\overline{h_1}  \\rangle & \\langle \\overline{h_2},\\overline{h_2}  \\rangle & ... & \\langle \\overline{h_2},\\overline{h_n}  \\rangle \\\\ ... & ... & ... & ...\\\\\n",
        "       \\langle \\overline{h_n},\\overline{h_1}  \\rangle & \\langle \\overline{h_n},\\overline{h_2}  \\rangle & ... & \\langle \\overline{h_n},\\overline{h_n}  \\rangle \\end{bmatrix}\n",
        "      \\begin{bmatrix} c_1 \\\\ c_2 \\\\ ... \\\\ c_3\\end{bmatrix} = \n",
        "      \\begin{bmatrix} \\langle \\overline{f},\\overline{h_1}  \\rangle \\\\ \\langle \\overline{f},\\overline{h_2}  \\rangle \\\\ .. \\\\ \\langle \\overline{f},\\overline{h_n}  \\rangle \\end{bmatrix}$\n",
        "\n",
        "\n",
        " \n",
        " \n"
      ]
    },
    {
      "cell_type": "code",
      "metadata": {
        "id": "mGtlX_zen9yS",
        "colab_type": "code",
        "colab": {
          "base_uri": "https://localhost:8080/",
          "height": 106
        },
        "outputId": "028bded0-f436-4f03-8d01-62dd397708b8"
      },
      "source": [
        "f = np.array([1.105,1.221,1.348,1.491,1.64,1.822,2.013,2.22,2.459]) #vetor de valores f\n",
        "M = np.array([[0.01,0.04,0.09,0.16,0.25,0.36,0.49,0.64,0.81],[0.1,0.2,0.3,0.4,0.5,0.6,0.7,0.8,0.9],[1,1,1,1,1,1,1,1,1]]) #matriz com os n vetores hk\n",
        "n = 3 #dimensão da matriz simétrica A\n",
        "\n",
        "A, b = min_quadrados(f,M,n)\n",
        "print(\"Sistema Linear da solução dos mínimos quadrados:\")\n",
        "print(\"A = \", A)\n",
        "print(\"B = \", b)"
      ],
      "execution_count": null,
      "outputs": [
        {
          "output_type": "stream",
          "text": [
            "Sistema Linear da solução dos mínimos quadrados:\n",
            "A =  [[1.533 2.025 2.85 ]\n",
            " [2.025 2.85  4.5  ]\n",
            " [2.85  4.5   9.   ]]\n",
            "B =  [ 5.885  8.667 15.319]\n"
          ],
          "name": "stdout"
        }
      ]
    },
    {
      "cell_type": "markdown",
      "metadata": {
        "id": "jRKYji_orv6O",
        "colab_type": "text"
      },
      "source": [
        "Chegando no sistema:\n",
        "\n",
        "$\\begin{equation}\n",
        "    \\left[ \\begin{array}{ccc}\n",
        "        1.533 & 2.085 & 2.85 \\\\\n",
        "        2.025 & 2.85 & 4.5 \\\\\n",
        "        2.85 & 4.5 & 9\n",
        "    \\end{array} \\right] \\left[ \\begin{array}{c}\n",
        "        c_1 \\\\ c_2 \\\\ c_3\n",
        "    \\end{array} \\right] = \\left[ \\begin{array}{c}\n",
        "        5.885 \\\\ 8.667 \\\\ 15.319\n",
        "    \\end{array} \\right]\n",
        "\\end{equation}$\n",
        "\n",
        " \n",
        "E então utilizando o método de eliminação de gauss para resolver o sistema encontrado:\n",
        " "
      ]
    },
    {
      "cell_type": "code",
      "metadata": {
        "id": "WywkzhIJtMKP",
        "colab_type": "code",
        "colab": {
          "base_uri": "https://localhost:8080/",
          "height": 35
        },
        "outputId": "a0a0e520-cd90-4e65-89b2-53b160bc609c"
      },
      "source": [
        "coef = gauss_elimination(A, b, n)\n",
        "print(\"Solução do Sistema Linear:\", coef)"
      ],
      "execution_count": null,
      "outputs": [
        {
          "output_type": "stream",
          "text": [
            "Solução do Sistema Linear: [0.86830601 0.81086066 1.02171721]\n"
          ],
          "name": "stdout"
        }
      ]
    },
    {
      "cell_type": "markdown",
      "metadata": {
        "id": "NY5sDzSZthVo",
        "colab_type": "text"
      },
      "source": [
        "Obtemos, então, os coeficientes de $p(x)$:\n",
        "\n",
        "$c_1 = 0.8683$\n",
        "\n",
        "$c_2 = 0.8108$\n",
        "\n",
        "$c_3 = 1.0217$\n",
        "\n",
        "Portanto, $p(x) = 0.8683 x^2 + 0.8108 x + 1.0217\n",
        "\n",
        "Plotando em um gráfico, podemos ver o desvio entre $f(x)$ e $p(x)$:"
      ]
    },
    {
      "cell_type": "code",
      "metadata": {
        "id": "q6G68AyQvZwv",
        "colab_type": "code",
        "colab": {
          "base_uri": "https://localhost:8080/",
          "height": 407
        },
        "outputId": "fcbf5523-922f-437e-d8da-191e7abbd2a6"
      },
      "source": [
        "p = lambda x: coef[2] + coef[1]*x + coef[0]*x**2;\n",
        "x = np.linspace(0, 1, num=41, endpoint=True)\n",
        "# Vamos plotar os resultados\n",
        "plt.figure(figsize=(10,6),facecolor='white')\n",
        "plt.plot(x,np.exp(x),label = 'f(x)',linewidth = 3)\n",
        "plt.plot(x,p(x),label = 'p(x)',linewidth = 2,marker='>')\n",
        "plt.xlabel('x',fontsize='large') \n",
        "plt.ylabel('y',fontsize='large') \n",
        "plt.title('Comparação da função aproximada') \n",
        "plt.legend(fontsize='large') \n",
        "plt.show()"
      ],
      "execution_count": null,
      "outputs": [
        {
          "output_type": "display_data",
          "data": {
            "image/png": "[encoded data removed]",
            "text/plain": [
              "<Figure size 720x432 with 1 Axes>"
            ]
          },
          "metadata": {
            "tags": []
          }
        }
      ]
    },
    {
      "cell_type": "markdown",
      "metadata": {
        "id": "k73gYRCJw2o_",
        "colab_type": "text"
      },
      "source": [
        "No gráfico acima, podemos ver que o desvio entre f(x) e p(x) é bem pequeno."
      ]
    },
    {
      "cell_type": "markdown",
      "metadata": {
        "id": "SWOpQZ6H_VaJ",
        "colab_type": "text"
      },
      "source": [
        "**Aplicação 2)** Utilizando o método dos mínimos quadrados para encontrar a reta $f(x)$ que melhor se ajusta a tabela de dados referente à taxa bruta de natalidade no Brasil do ano 1950 à 2000.\n",
        "\n",
        "\n",
        "**Período __ Taxa bruta de natalidade**\n",
        "\n",
        "(0) 1950 _____ 43.50\n",
        "\n",
        "(1) 1960 _____ 44.00\n",
        "\n",
        "(2) 1970 _____ 37.70\n",
        "\n",
        "(3) 1980 _____ 31.87\n",
        "\n",
        "(4) 1990 _____ 23.72\n",
        "\n",
        "(5) 2000 _____ 21.06\n",
        "\n",
        "**Tabela**: Taxa bruta de natalidade no Brasil entre 1950 à 2000\n",
        "\n",
        "Assim, sendo $f(x)$ os valores da tabela, e sendo $t$ os anos (iniciando em 0, ou seja, 1950 $\\Longrightarrow$ $t=0$, 1960 $\\Longrightarrow$ $t=1$, etc), temos:\n",
        "\n",
        "$\\overline{h_1}= (0,1,2,3,4,5)$\n",
        " \n",
        "$\\overline{h_2}= (1,1,1,1,1,1)$\n",
        " \n",
        "$\\overline{f} = (43.5,44.0,37.7,31.87,23.72,21.06)$\n",
        "\n",
        "Aplicando os valores no método dos mínimos quadrados:\n",
        "\n",
        "\n"
      ]
    },
    {
      "cell_type": "code",
      "metadata": {
        "id": "xqmeBMt4H8ii",
        "colab_type": "code",
        "colab": {
          "base_uri": "https://localhost:8080/",
          "height": 88
        },
        "outputId": "6d82d902-5728-4ebe-e5ac-63ca688ad8e3"
      },
      "source": [
        "f = np.array([43.5,44.0,37.7,31.87,23.72,21.06]) #vetor de valores f(x)\n",
        "M = np.array([[0,1,2,3,4,5],[1,1,1,1,1,1]]) #matriz com os n vetores hk\n",
        "n = 2 #dimensão da matriz simétrica A\n",
        "\n",
        "A, b = min_quadrados(f,M,n)\n",
        "print(\"Sistema Linear da solução dos mínimos quadrados:\")\n",
        "print(\"A = \", A)\n",
        "print(\"B = \", b)"
      ],
      "execution_count": 55,
      "outputs": [
        {
          "output_type": "stream",
          "text": [
            "Sistema Linear da solução dos mínimos quadrados:\n",
            "A =  [[55. 15.]\n",
            " [15.  6.]]\n",
            "B =  [415.19 201.85]\n"
          ],
          "name": "stdout"
        }
      ]
    },
    {
      "cell_type": "markdown",
      "metadata": {
        "id": "h89hJodnIQp4",
        "colab_type": "text"
      },
      "source": [
        "Chegamos no sistema:\n",
        "\n",
        "$\\begin{equation}\n",
        "    \\left[ \\begin{array}{ccc}\n",
        "        55 & 15 \\\\\n",
        "        15 & 6\n",
        "    \\end{array} \\right] \\left[ \\begin{array}{c}\n",
        "        c_1 \\\\ c_2\n",
        "    \\end{array} \\right] = \\left[ \\begin{array}{c}\n",
        "        415.19 \\\\ 201.85\n",
        "    \\end{array} \\right]\n",
        "\\end{equation}$\n",
        "\n",
        "Aplicando o método da Eliminação de Gauss para resolver o Sistema linear acima:"
      ]
    },
    {
      "cell_type": "code",
      "metadata": {
        "id": "9BBxDKmdIW_h",
        "colab_type": "code",
        "colab": {
          "base_uri": "https://localhost:8080/",
          "height": 35
        },
        "outputId": "1e74e9d2-fc8a-465e-ed37-9d71ec4766d0"
      },
      "source": [
        "coef = gauss_elimination(A, b, n)\n",
        "print(\"Solução do Sistema Linear:\", coef)"
      ],
      "execution_count": 56,
      "outputs": [
        {
          "output_type": "stream",
          "text": [
            "Solução do Sistema Linear: [-5.11057143 46.41809524]\n"
          ],
          "name": "stdout"
        }
      ]
    },
    {
      "cell_type": "markdown",
      "metadata": {
        "id": "DwvdzhZjI_wI",
        "colab_type": "text"
      },
      "source": [
        "Obtemos, então, os coeficientes de $p(x)$:\n",
        "\n",
        "$c_1 = -5.1105$\n",
        "\n",
        "$c_2 = 46.4180$\n",
        "\n",
        "Portanto, a reta que melhor se ajusta à tabela de dados referente à taxa bruta de natalidade no Brasil do ano 1950 à 2000 é:\n",
        "\n",
        "> $p(x) = -5.1105 x + 46.4180$\n",
        "\n",
        "\n",
        "\n",
        "\n",
        "Plotando em um gráfico, podemos ver o desvio entre $f(x)$ e $p(x)$:"
      ]
    },
    {
      "cell_type": "code",
      "metadata": {
        "id": "BCUglRhHJy15",
        "colab_type": "code",
        "colab": {
          "base_uri": "https://localhost:8080/",
          "height": 407
        },
        "outputId": "567d5f3b-515f-42b9-fb7f-9e2a2542e525"
      },
      "source": [
        "p = lambda x: coef[1] + coef[0]*x\n",
        "x = np.linspace(0, 10, num=6, endpoint=True)\n",
        "# Vamos plotar os resultados\n",
        "plt.figure(figsize=(10,6),facecolor='white')\n",
        "plt.plot(x,p(x),label = 'p(x)',linewidth = 2,marker='>')\n",
        "plt.xlabel('x',fontsize='large') \n",
        "plt.ylabel('y',fontsize='large') \n",
        "plt.title('Comparação da função aproximada') \n",
        "plt.legend(fontsize='large') \n",
        "plt.show()"
      ],
      "execution_count": 58,
      "outputs": [
        {
          "output_type": "display_data",
          "data": {
            "image/png": "[encoded data removed]",
            "text/plain": [
              "<Figure size 720x432 with 1 Axes>"
            ]
          },
          "metadata": {
            "tags": []
          }
        }
      ]
    },
    {
      "cell_type": "markdown",
      "metadata": {
        "id": "Ue4YZM2xKfNb",
        "colab_type": "text"
      },
      "source": [
        "Com isso, podemos fazer uma previsão para o ano de 2020, que é representado por $x = 7$:\n",
        "\n",
        "$p(x) = −5.1105x+46.4180$\n",
        "\n",
        "$p(7) = −5.1105 \\times 7+46.4180$\n",
        "\n",
        "$p(7) = -35.7735+46.4180$\n",
        "\n",
        "$p(7) = 10.6445$\n",
        "\n",
        "Ou seja, a taxa de natalidade prevista para o ano de 2020 é de $10.65$%"
      ]
    },
    {
      "cell_type": "markdown",
      "metadata": {
        "colab_type": "text",
        "id": "rwz-0b-imRkr"
      },
      "source": [
        "## **MÉTODO DE RESOLUÇÃO DE SISTEMAS NÃO LINEARES**"
      ]
    },
    {
      "cell_type": "markdown",
      "metadata": {
        "colab_type": "text",
        "id": "vHV79fO7POq8"
      },
      "source": [
        "### **1. Teoria**"
      ]
    },
    {
      "cell_type": "markdown",
      "metadata": {
        "id": "ko9CnoCTQEdJ",
        "colab_type": "text"
      },
      "source": [
        "Na vida academica, ao longo da vida, estamos acostumados a trabalhar com sistemas de equações lineares, pois estes tem propriedades que facilitam muito os cálculos. No entanto, no mundo real a maioria dos problemas não ocorrem de forma linear.\n",
        "\n",
        "Sistemas não lineares são frequentemente utilizados para cálculos e estudo em diferentes áreas, como biológias, socais, criptografia, telecomunicações, economia, linguística, e várias outras áreas em que são considerados diversos fatores, obtendo assim diversas váriáveis, ou seja, um sistema não linear.\n",
        "\n",
        "Uma equação que contenha uma expressão do tipo $x^2, y^{-2}, x\\cdot y, z, y, sen(x), ex+z$ ,etc, é chamada não-linear em $x, y, z, ...$, porque ela não pode ser escrita como $ax + by + cz + ... = cte$ que é uma equação linear em $x, y, z$,... . \n",
        "\n",
        "Um sistema de equações não lineares é um conjunto de equações não lineares, onde os polinômios são de grau maior que um, resultando em infinitas variáveis. Trazendo todos os termos diferentes de zero à esquerda de todas as equações, tem-se uma forma geral que pode ser usada para qualquer sistema não-linear. \n",
        "\n",
        "Sendo assim, queremos resolveremos sistemas de $n$ equações não lineares e $n$ incógnitas do tipo $F(x) = 0$:\n",
        "\n",
        ">$S =\n",
        "  \\begin{cases}\n",
        "    f_1(x_1,x_2,...,x_n) = 0  \\\\\n",
        "    f_2(x_1,x_2,...,x_n) = 0  \\\\\n",
        "    ...            \\\\\n",
        "    f_n(x_1,x_2,...,x_n) = 0  \\\\\n",
        "  \\end{cases}\n",
        "$\n",
        "\n",
        "\n",
        "Apesar de não ser fácil de ser resolvido, existem métodos que resolvem estes sistemas, sendo que um dos principais métodos usados para a resolução de um sistema não-linear é o **Método de Newton para Sistemas**.  \n",
        "\n",
        "**- Método de Newton para Sistemas**\n",
        "\n",
        "Basicamente, o Método de Newton, a partir de uma aproximação inicial $x_0$ , \n",
        "e assumindo que a função $F(x)$ é diferenciável e que existe um ponto $x_∗$ tal que $F(x_∗)= 0$, consiste em definir a sequência {$x_k$} através dos seguintes passos: \n",
        "\n",
        "> - A resolução do sistema linear: $J(x_k) s_k = −F(x_k)$\n",
        ">\n",
        "> - A atualização do novo valor $x_{k+1} = x_k + s_k$\n",
        "\n",
        "Onde $s_k$ é a solução do sistema linear acima, e $J(x_k)$ é a matriz jacobiana dada por:\n",
        "\n",
        "> $  \n",
        "  \\begin{equation*}\n",
        "  J(x) = \n",
        "  \\begin{bmatrix}\n",
        "    \\frac{∂f_1(x)}{∂x_1} \t&\t\\frac{∂f_1(x)}{∂x_2} & ........ &\t\\frac{∂f_1(x)}{∂x_n} \\\\\n",
        "    \\frac{∂f_2(x)}{∂x_1} \t&\t\\frac{∂f_2(x)}{∂x_2} &........ &\t\\frac{∂f_2(x)}{∂x_n} \\\\\n",
        "    ...\t\t\t\t \\\\\n",
        "    \\frac{∂f_n(x)}{∂x_1} \t&\t\\frac{∂f_n(x)}{∂x_2} & ........ &\t\\frac{∂f_n(x)}{∂x_n}  \\\\\n",
        "  \\end{bmatrix}\n",
        "  \\end{equation*}\n",
        "$\n",
        "\n",
        "Com isso, são realizadas $k$ iterações, a partir da utilização destas aproximações lineares para $k = 0, 1, 2, ...$, gerando uma sequência que, sob certas hipóteses, converge para a solução. Além disso, como em qualquer método iterativo, é preciso ter um critério de parada para aceitar um ponto $x_k$ \n",
        "como uma boa aproximação da solução exata $x_∗$. Um critério de parada (utilizado na implementação do método de newton neste trabalho) é o do erro absoluto, que consiste em vericar se a norma entre duas iterações sucessivas está próxima de zero (dado um erro $e$ máximo), isto é, escolhemos $x_{k+1}$ como uma boa aproximação para a solução exata $x_∗$ , se temos $||x_{k+1} − x_k || < e$.\n"
      ]
    },
    {
      "cell_type": "markdown",
      "metadata": {
        "colab_type": "text",
        "id": "QOaDCgNWPP6k"
      },
      "source": [
        "### **2. Códigos**"
      ]
    },
    {
      "cell_type": "markdown",
      "metadata": {
        "id": "UBkTNnErmqEc",
        "colab_type": "text"
      },
      "source": [
        "**I) Método de Newton**"
      ]
    },
    {
      "cell_type": "code",
      "metadata": {
        "id": "4P2OnZQIrjl0",
        "colab_type": "code",
        "colab": {}
      },
      "source": [
        "n = 2 #numero de elementos em x\n",
        "xi = np.array([-1, 6]) #vetor aproximação inicial\n",
        "F = np.array([[1,1,-5],[1,1,-25]])\n",
        "e = 0.1 #erro e"
      ],
      "execution_count": null,
      "outputs": []
    },
    {
      "cell_type": "code",
      "metadata": {
        "id": "Mv2WO_1wrkb9",
        "colab_type": "code",
        "colab": {}
      },
      "source": [
        "def toJacobian(f, x, n):\n",
        "    J = np.zeros((n, n))\n",
        "    for i in range(n): #para cada linha\n",
        "        for j in range(n): #para cada coluna\n",
        "            for k in range(n): #para cada x (x1, x2, x3, etc) -> por ex se n=2, temos x1 e x2\n",
        "                if(i == k): \n",
        "                    J[i][j] = f[i][j] * (i+1) * (x[j] ** i) ##derivando e ja substituindo x\n",
        "    return J"
      ],
      "execution_count": null,
      "outputs": []
    },
    {
      "cell_type": "code",
      "metadata": {
        "id": "ZjEUXa9yrnmk",
        "colab_type": "code",
        "colab": {}
      },
      "source": [
        "def iteration_newton(n, xi, F, e):\n",
        "    Jx = np.zeros((n,n)) #(A) matriz n x n cheia de zeros \n",
        "    Fx = np.zeros(n) #(b) vetor de tamanho n cheia de zeros \n",
        "\n",
        "    #encontrando o sistema Ax=b \n",
        "    for i in range(n): #Encontrando o 'b' (Fx)\n",
        "        Fx[i] = F[i][n]\n",
        "        for j in range(n):\n",
        "            Fx[i] = Fx[i] + F[i][j] * (xi[j] ** (i+1))\n",
        "    Jx = toJacobian(F, xi, n) #encontrando o 'A' (Jx)\n",
        "\n",
        "    y = gauss_elimination(Jx, -Fx, n) #gauss(A,b,n) resolvendo o sistema linear A.x=b (ou Jx.x=-Fx) usando o metodo da eliminação de gauss\n",
        "    x = xi + y\n",
        "    return x"
      ],
      "execution_count": null,
      "outputs": []
    },
    {
      "cell_type": "code",
      "metadata": {
        "id": "KTjdWpehrqjZ",
        "colab_type": "code",
        "colab": {}
      },
      "source": [
        "def newton(n, xi, F, e):\n",
        "    k = 1 #contador de iterações\n",
        "    while (k < 25):\n",
        "        x = iteration_newton(n, xi, F, e)\n",
        "        if (stopCriteria(x, xi, n, e)):\n",
        "            return x\n",
        "        else:\n",
        "            k = k + 1\n",
        "            for i in range(n):\n",
        "                xi[i] = x[i]"
      ],
      "execution_count": null,
      "outputs": []
    },
    {
      "cell_type": "code",
      "metadata": {
        "id": "GZ5PcKQ47yle",
        "colab_type": "code",
        "colab": {
          "base_uri": "https://localhost:8080/"
        },
        "outputId": "4bbe27be-d832-43b6-bd5c-7c7a81bb78ac"
      },
      "source": [
        "print(\"Resultado do Método de Newton:\", newton(n,xi,F,e))"
      ],
      "execution_count": null,
      "outputs": [
        {
          "output_type": "stream",
          "text": [
            "Resultado do Método de Newton: [0. 5.]\n"
          ],
          "name": "stdout"
        }
      ]
    },
    {
      "cell_type": "markdown",
      "metadata": {
        "colab_type": "text",
        "id": "oLobJZ3rPPzH"
      },
      "source": [
        "### **3. Aplicação**"
      ]
    },
    {
      "cell_type": "markdown",
      "metadata": {
        "id": "7WkSeZKLj0lD",
        "colab_type": "text"
      },
      "source": [
        "Um exemplo de aplicação de sistemas de equações não-lineares poderia ser para, por exemplo, explicar o funcionamento do cérebro humano, pra ver quais partes se ativam ao realizarmos determinadas atividades. Para isso, devem ser levados em conta diversos fatores, considerando componentes químicos, físicos e biológicos do cérebro, obtendo diversas variáveis, ou seja, um sistema não linear para cada cidadão pesquisado."
      ]
    },
    {
      "cell_type": "markdown",
      "metadata": {
        "colab_type": "text",
        "id": "QQmNS19U3DPa"
      },
      "source": [
        "## **MÉTODO DE AUTOVALORES E AUTOVETORES**"
      ]
    },
    {
      "cell_type": "markdown",
      "metadata": {
        "colab_type": "text",
        "id": "GEAoaC4HPZzT"
      },
      "source": [
        "### **1. Teoria**"
      ]
    },
    {
      "cell_type": "markdown",
      "metadata": {
        "id": "6LWAoYlDQb2X",
        "colab_type": "text"
      },
      "source": [
        "\n",
        "##Autovalores e autovetores\n",
        "\n",
        "Pode ser considerado como autovetor de $A_{n \\times n}$, o vetor existente dentro do espaço dos reais, não nulo de tal forma que se multiplicado por A este não tem a sua direção afetada, apenas mudando em sentido e magnitude. Ou seja, se tomarmos um escalar ${\\lambda} \\in  \\mathbb{C}$ temos a seguinte expressão:\n",
        " > ${Av = \\lambda v }$ \n",
        "\n",
        "onde v é autovetor de A e ${\\lambda}$ seu autovalor associado. Estes autovetores acabam resumindo as principais propriedades de sua matriz associada e são utilizados por exemplo no algoritmo PCA para fazer a redução de dimensionalidade da matriz. Além disso, caso subtrairmos o autovalor ${\\lambda}$ da diagonal principal de A, obtemos uma matriz singular. Sendo o mesmo que realizar a seguinte operação ${(A - \\lambda I)}$.\n",
        "De tal forma é possível calcular este autovalor ${\\lambda}$ descobrindo as raízes de um polinômio característico ${P(\\lambda)}$\n",
        "> ${Av = \\lambda v  = \\lambda I v  \\Longleftrightarrow (A - \\lambda I )v = \\overline{0}   \\Longleftrightarrow det(A - \\lambda I) =  0}$ \n",
        "\n",
        "É importante também entendermos o conceito de matrizes semelhantes. $A_{n \\times n}$ e $B_{n \\times n}$ são consideradas semelhantes se existir uma outra matriz $P_{n \\times n}$, que pode ser invertida, e a seguinte equação seja possível:\n",
        "> $B = P^{-1}AP$\n",
        "\n",
        "Matrizes semelhantes entre si possuem os mesmos autovalores.\n",
        "### Método das Potências \n",
        "\n",
        "Existem diversos métodos numéricos para se calcular todos os  autovalores e autovetores de uma matriz. Podemos entre eles citar a Decomposição QR e o Método de Francis. No entanto, muitas vezes descobrir apenas um autovalor e um autovetor específico já resolve o problema proposto e é por isso que o método das potências é utilizado.\n",
        "\n",
        "Este método tem como objetivo calcular qual o autovalor dominante $\\lambda_1$ e o autovetor associado a ele, da matriz $A_{n \\times n }$. Para isso é necessário que A possua como matriz semelhante uma matriz diagonal, sendo assim diagonalizável. Isto faz com que A tenha um conjunto de n autovetores v ${ \\in \\mathbb{R}^n}$ linearmente independentes entre si. É necessário também que os n autovalores associados a v sejam ordenados em módulo, de modo que exista um valor único maior que os outros:\n",
        " >$ |\\lambda_n| \\leq |\\cdots| \\leq |\\lambda_3| \\leq |\\lambda_2| < |\\lambda_1|$\n",
        "\n",
        "Através do quociente de Rayleigh é possível se obter informação de um autovetor e assim determinar qual seu autovalor associado. \n",
        ">$\\mu_{(x)} = {x \\times Ax \\over \\begin{Vmatrix}x\\end{Vmatrix}_2^2}$\n",
        "\n",
        "O método das potências consegue chegar no valor do autovalor dominante através de um processo iterativo e recursivo, onde:\n",
        "> $x^{(k)} = Ay^{(k-1)}$, \n",
        ">$y^{(k)} = {x^{(k)}\\over \\begin{Vmatrix}x\\end{Vmatrix}_2 }$,\n",
        ">$\\lambda_1^{(k)} = y^{(k)} \\times Ay^{(k)}$ \n",
        "\n",
        "É calculado o $y^0$ através da normalização do chute inicial $x^0$ e para $k = 1, /cdots, n$ o $x^k$ e igual a multiplicação da matriz A pelo valor do y anterior. Em seguida $y^k$ é normalizado e é aplicado o rayleigh para se obter o autovalor relacionado a $y^k$. O procedimento é interrompido quando o numéro de iterações chega no k = kmax ou quando a diferença $ | \\lambda_1^{(K+1)} - \\lambda_1^{(K+1)} |  >\\epsilon $\n",
        "\n",
        "É interessante ver que o resultado é feito atráves de recursivas multiplicacoes dos vetores por A"
      ]
    },
    {
      "cell_type": "markdown",
      "metadata": {
        "colab_type": "text",
        "id": "P4840YkjPaNT"
      },
      "source": [
        "### **2. Códigos**"
      ]
    },
    {
      "cell_type": "markdown",
      "metadata": {
        "id": "LBQ1vtJjMQuL",
        "colab_type": "text"
      },
      "source": [
        "**I) Método das Potências**"
      ]
    },
    {
      "cell_type": "code",
      "metadata": {
        "id": "ObYNjFCEQZgW",
        "colab_type": "code",
        "colab": {}
      },
      "source": [
        "k = 1\n",
        "A = np.array([[-4,14,0],[-5,13,0],[-1,0,2]]) #matriz\n",
        "x = np.array([1.0,1.0,1.0]) #vetor aproximação inicial \n",
        "\n"
      ],
      "execution_count": null,
      "outputs": []
    },
    {
      "cell_type": "code",
      "metadata": {
        "id": "hi58t06en1KI",
        "colab_type": "code",
        "colab": {
          "base_uri": "https://localhost:8080/",
          "height": 34
        },
        "outputId": "83322573-51f2-46b2-823c-fb8f57e5f7e5"
      },
      "source": [
        "z = np.dot(A,x.T)\n",
        "p = np.argmax(z)\n",
        "z = z/z[p]\n",
        "z\n"
      ],
      "execution_count": null,
      "outputs": [
        {
          "output_type": "execute_result",
          "data": {
            "text/plain": [
              "array([1. , 0.8, 0.1])"
            ]
          },
          "metadata": {
            "tags": []
          },
          "execution_count": 30
        }
      ]
    },
    {
      "cell_type": "code",
      "metadata": {
        "id": "IjPsSox_fitj",
        "colab_type": "code",
        "colab": {}
      },
      "source": [
        "def power_method(A,x,epsilon,limit):\n",
        "  for k in range(limit):\n",
        "    x1 = np.dot(A,x) # xk = Ay\n",
        "    p = np.argmax(x1)\n",
        "    lam = x1[p]\n",
        "    x1 = x1/x1[p]\n",
        "    diff = x - x1  \n",
        "    if x1[p] == 0:\n",
        "      return 0, x\n",
        "    if (np.linalg.norm(diff) < epsilon):\n",
        "      return lam, x1\n",
        "    x = x1\n",
        "  return lam, x, k"
      ],
      "execution_count": null,
      "outputs": []
    },
    {
      "cell_type": "code",
      "metadata": {
        "id": "gl-B4zqmWghZ",
        "colab_type": "code",
        "colab": {
          "base_uri": "https://localhost:8080/",
          "height": 50
        },
        "outputId": "3f9a7229-a8c2-4b1f-e968-160116001086"
      },
      "source": [
        "lam, x = power_method(A,x,10e-9,100)\n",
        "print(\"Autovalor:\", lam)\n",
        "print(\"Autovetor:\", x)"
      ],
      "execution_count": null,
      "outputs": [
        {
          "output_type": "stream",
          "text": [
            "Autovalor: 6.000000051089694\n",
            "Autovetor: [ 1.          0.71428572 -0.24999999]\n"
          ],
          "name": "stdout"
        }
      ]
    },
    {
      "cell_type": "markdown",
      "metadata": {
        "colab_type": "text",
        "id": "oNLZXQbjPaQy"
      },
      "source": [
        "### **3. Aplicação**"
      ]
    },
    {
      "cell_type": "markdown",
      "metadata": {
        "id": "tIGxKpVGylHy",
        "colab_type": "text"
      },
      "source": [
        "Um algoritmo extremamente famoso que utiliza o método das potências é o page rank utilizado pelo google para ordenar a relevância dos sites na internet.\n",
        "Se considerarmos um grafo G onde os vértices representam um site e as arestas o link entre eles, é possível gerar uma matriz de adjacência M, onde $a_{i,j} = 1$ se houver ligação entre os vértices J e I, ou $a_{i,j} = 0$ caso não exista essa ligação."
      ]
    },
    {
      "cell_type": "code",
      "metadata": {
        "id": "QVOEUECQzrDq",
        "colab_type": "code",
        "colab": {}
      },
      "source": [
        "M = np.array([[0.0,0.0,1.0,0.0],[1.0,0.0,1.0,0.0],[1.0,1.0,0.0,0.0],[0.0,0.0,1.0,0.0]]) # definição da matriz de adjascencia\n",
        "n = 4\n",
        "alpha = 0.8"
      ],
      "execution_count": null,
      "outputs": []
    },
    {
      "cell_type": "code",
      "metadata": {
        "id": "6G0cIVRozD4Y",
        "colab_type": "code",
        "colab": {}
      },
      "source": [
        "def pagerank(M,n,alpha):\n",
        "  P = stochastic_matrix(M, n) #matriz estocasticas\n",
        "  google_matrix = (alpha * P) + ((1-alpha)*(np.ones(n)/n)) # tranformando na matrix google\n",
        "  x0 = np.ones(n)/n\n",
        "  [x, k] = power_method_2(P,x0,10e-9,100000)\n",
        "  index = np.argsort(x)\n",
        "  for i in range(n-1, -1, -1):\n",
        "    print(\"Ranking %d:  Valor: %f Site: %d\" % (np.abs(i-n),  x[index[i]],index[i]+1 ) )"
      ],
      "execution_count": null,
      "outputs": []
    },
    {
      "cell_type": "markdown",
      "metadata": {
        "id": "VnVyG5GRz0Ja",
        "colab_type": "text"
      },
      "source": [
        "\n",
        "Para podermos utilizarmos a matriz M, é necessário transforma-la em uma matriz que armazena probabilidades, ou seja uma matriz estocástica, dividindo cada elemento pela soma total de sua coluna. Além disso é importante eliminar os sumidouros do grafo, adicionando uma constante $1\\over n$."
      ]
    },
    {
      "cell_type": "code",
      "metadata": {
        "id": "iB2Vat4FA_Bg",
        "colab_type": "code",
        "colab": {}
      },
      "source": [
        "def stochastic_matrix(M, n): #transforma a matriz M em uma estocástica\n",
        "  P = np.zeros([n,n])\n",
        "  for i in range(n):\n",
        "    if sum(M[:,i]):\n",
        "      P[i] = M[:,i]/sum(M[:,i])\n",
        "    else: \n",
        "      P[i] =  P[i] + (1.0/n) #adiciona uma constante para eliminar o sumidouro do grafo\n",
        "  P = P.T\n",
        "  return P"
      ],
      "execution_count": null,
      "outputs": []
    },
    {
      "cell_type": "markdown",
      "metadata": {
        "id": "mejG0ECH0HUc",
        "colab_type": "text"
      },
      "source": [
        "Através de um processo de markov, onde a probabilidade do periodo k+1 depende apenas do estado em que está no período n. Sendo possível aplicar em uma matriz estocástica (Arrumar). Para adaptar o método das potências ao processo de markov, algumas alterações no método foram feitas como a não necessidade de calcular o maior autovalor e a não necessidade da normalização do vetor x1.   \n"
      ]
    },
    {
      "cell_type": "code",
      "metadata": {
        "id": "Fhf446jjzSSN",
        "colab_type": "code",
        "colab": {}
      },
      "source": [
        "def power_method_2(A,x,epsilon,limit):\n",
        "  for k in range(limit):\n",
        "    x1 = np.dot(A,x) # xk = Ay\n",
        "    p = np.argmax(x1)\n",
        "    diff = x - x1  \n",
        "    if x1[p] == 0:\n",
        "      return x, k\n",
        "    if (np.linalg.norm(diff) < epsilon):\n",
        "      return x1, k\n",
        "    x = x1\n",
        "  return x, k"
      ],
      "execution_count": null,
      "outputs": []
    },
    {
      "cell_type": "code",
      "metadata": {
        "id": "NNUzpmUv5Pqu",
        "colab_type": "code",
        "colab": {
          "base_uri": "https://localhost:8080/",
          "height": 88
        },
        "outputId": "bd3b7c53-cdac-49e0-ebd3-3ddc3efeb0e3"
      },
      "source": [
        "pagerank(M,n,alpha)"
      ],
      "execution_count": null,
      "outputs": [
        {
          "output_type": "stream",
          "text": [
            "Ranking 1:  Valor: 0.391304 Site: 3\n",
            "Ranking 2:  Valor: 0.260870 Site: 2\n",
            "Ranking 3:  Valor: 0.173913 Site: 4\n",
            "Ranking 4:  Valor: 0.173913 Site: 1\n"
          ],
          "name": "stdout"
        }
      ]
    },
    {
      "cell_type": "markdown",
      "metadata": {
        "id": "YzZ7BQOWBFgH",
        "colab_type": "text"
      },
      "source": [
        ""
      ]
    }
  ]
}