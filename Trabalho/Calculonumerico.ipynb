{
  "nbformat": 4,
  "nbformat_minor": 0,
  "metadata": {
    "colab": {
      "name": "Calculonumerico.ipynb",
      "provenance": [],
      "collapsed_sections": [
        "z6j8Q6bb72en",
        "xlAPEuoI-5Qq",
        "xaSl0vWOPEjs",
        "QQmNS19U3DPa",
        "GEAoaC4HPZzT"
      ],
      "include_colab_link": true
    },
    "kernelspec": {
      "name": "python3",
      "display_name": "Python 3"
    },
    "accelerator": "GPU"
  },
  "cells": [
    {
      "cell_type": "markdown",
      "metadata": {
        "id": "view-in-github",
        "colab_type": "text"
      },
      "source": [
        "<a href=\"https://colab.research.google.com/github/mwingter/Calculo-Numerico/blob/master/Trabalho/Calculonumerico.ipynb\" target=\"_parent\"><img src=\"https://colab.research.google.com/assets/colab-badge.svg\" alt=\"Open In Colab\"/></a>"
      ]
    },
    {
      "cell_type": "markdown",
      "metadata": {
        "id": "IKokkAsd7wHC",
        "colab_type": "text"
      },
      "source": [
        "***Grupo:***  \n",
        "*João Reis, 9293373  \n",
        "Michelle Wingter da Silva, 10783243*"
      ]
    },
    {
      "cell_type": "markdown",
      "metadata": {
        "id": "sM6DCsUP7DOR",
        "colab_type": "text"
      },
      "source": [
        "# **Cálculo Numérico - SME0104 - 2020**\n",
        "---\n",
        "\n"
      ]
    },
    {
      "cell_type": "markdown",
      "metadata": {
        "id": "Mj73WTYiKfvY",
        "colab_type": "text"
      },
      "source": [
        "- Importações para rodar as bibliotecas necessárias --------------------------------------------\n"
      ]
    },
    {
      "cell_type": "code",
      "metadata": {
        "id": "rBFUoxm3KIZd",
        "colab_type": "code",
        "colab": {}
      },
      "source": [
        "import numpy as np\n",
        "import timeit\n",
        "import time\n",
        "import matplotlib.pyplot as plt"
      ],
      "execution_count": null,
      "outputs": []
    },
    {
      "cell_type": "markdown",
      "metadata": {
        "id": "z6j8Q6bb72en",
        "colab_type": "text"
      },
      "source": [
        "## **MÉTODO DE RESOLUÇÃO DE SISTEMAS LINEARES**"
      ]
    },
    {
      "cell_type": "markdown",
      "metadata": {
        "id": "C_c6tAB2OWbL",
        "colab_type": "text"
      },
      "source": [
        "### **1. Teoria**"
      ]
    },
    {
      "cell_type": "markdown",
      "metadata": {
        "id": "8aM-_NLxtMy3",
        "colab_type": "text"
      },
      "source": [
        "Utilizada nos mais diversos campos da ciência, sendo extremamente útil para resolver problemas relacionados a balanceamento de equações químicas, trâfego nas cidades e de redes e circuitos elétricos, os sistemas lineares são um conjunto de m equações lineares com n variaveis da seguinte forma:\n",
        "\n",
        ">$S =\n",
        "  \\begin{cases}\n",
        "    a_{1,1}x_1 + a_{1,2}x_1 + ... + a_{1,n}x_n = b_1  \\\\\n",
        "    a_{2,1}x_1 + a_{2,2}x_1 + ... + a_{2,n}x_n = b_2  \\\\ \n",
        "    ...            \\\\\n",
        "    a_{m,1}x_1 + a_{m,2}x_1 + ... + a_{m,n}x_n = b_m  \\\\\n",
        "  \\end{cases}\n",
        "$\n",
        "\n",
        "onde $ a_{i,j}, b_i \\in \\Re$ para $ 1 \\leq i \\leq m$ e $1\\leq j \\leq n$ e também pode ser descrito por Ax = b, onde x são as soluções. \n",
        "\n",
        "\n",
        "Este trabalho visa estudar alguns métodos numéricos utilizados para resolver sistemas lineares de uma maneira prática e rápida, possibilitando assim determinar a resposta de sistemas mais complexos. Esses métodos podem ser divididos em dois tipos: os métodos diretos, onde a solução é encontrada após um número determinado de passos e de forma exata, e os métodos indiretos, onde a solução é calculada a cada iteração, a partir de um palpite inicial, de forma com que forme uma sequência que acaba convergindo para a resposta correta. \n",
        "\n",
        "\n",
        "Para entender como cada método funciona primeiro é preciso explicar alguns conceitos e teorias utilizados por eles. Como mostrado antes, é possível escrever S na forma matricial Ax = b, onde A é a matriz dos coeficientes das equações, x é o vetor das incognitas e b o vetor de resposta.\n",
        "\n",
        ">$A_{m,n} = \n",
        " \\begin {pmatrix}\n",
        "  a_{1,1} & a_{1,2} & \\cdots & a_{1,n} \\\\\n",
        "  a_{2,1} & a_{2,2} & \\cdots & a_{2,n} \\\\\n",
        "  \\vdots  & \\vdots  & \\ddots & \\vdots  \\\\\n",
        "  a_{m,1} & a_{m,2} & \\cdots & a_{m,n}\n",
        " \\end{pmatrix}$\n",
        " \n",
        " \n",
        " > $x_n =\n",
        " \\begin{pmatrix}\n",
        "  x_1  \\\\\n",
        "  x_2  \\\\\n",
        "  \\vdots    \\\\\n",
        "  x_n \n",
        " \\end{pmatrix}$\n",
        "\n",
        " >$b_n =\n",
        " \\begin{pmatrix}\n",
        "  b_1  \\\\\n",
        "  b_2  \\\\\n",
        "  \\vdots    \\\\\n",
        "  b_m \n",
        " \\end{pmatrix}$"
      ]
    },
    {
      "cell_type": "markdown",
      "metadata": {
        "id": "Mxb_vO9lO7X1",
        "colab_type": "text"
      },
      "source": [
        "Se o determinante de A for diferente de zero, significa que suas colunas são entre si linearmente independentes e ela é denominada como não singular. Este fato implica que de tal modo que o vetor b pode ser escrito como uma  única combinação linear das colunas de A fazendo com que exista apenas uma só solução para o sistema em questão. Logo $ x = A^{-1} b $.\n",
        "Existem também matrizes especiais que possuem determinadas propriedades de acordo com sua forma e que podem ser poderossímas aliadas na hora de realizar um cálculo. Um exemplo disso são as matrizes triangulares, podendo ser do tipo superior ou inferior. \n",
        "Uma matriz C para ser considerada triangular inferior deve possuir todos os elementos acima da diagonal principal iguais a zero, $C_{i,j} = 0$ para todo $i> j$. Enquanto para ser triangular superior, são os elementos abaixo que devem possuir o valor nulo, $C_{i,j} = 0$ para todo $j> i$.\n",
        "Se existir um sistema linear Cx = b, ele recebe o nome de sistema triangular podendo ser dos tipos descritos acima e aparecem sobre a seguinte forma:\n",
        "\n",
        ">\\begin{equation}\n",
        "  \\begin{bmatrix}\n",
        "     a_{1,1}\\\\\n",
        "     a_{2,1} & a_{2,2}\\\\\n",
        "     a_{3,1}& a_{3,2} & a_{3,3}\\\\\n",
        "     \\vdots  & \\vdots & \\vdots & \\ddots\\\\\n",
        "     a_{n,1} & a_{n,2} & a_{n,3} & \\cdots & a_{n,n} &  \n",
        "  \\end{bmatrix}\n",
        "  \\begin{bmatrix}\n",
        "    x_1 \\\\\n",
        "    x_2 \\\\\n",
        "    x_3 \\\\\n",
        "    \\vdots \\\\\n",
        "    x_n  \n",
        "  \\end{bmatrix}\n",
        "  =\n",
        "  \\begin{bmatrix}\n",
        "    b_1\\\\\n",
        "    b_2\\\\\n",
        "    b_3\\\\\n",
        "    \\vdots\\\\\n",
        "    b_n\n",
        "  \\end{bmatrix}\n",
        "\\end{equation}\n",
        "\n",
        "\n",
        "Esse tipo de sistema torna a resolução muito mais fácil, pois basta realizar substituições diretas para se chegar no resultado. No exemplo acima temos que $x_1 = {b_1 \\over a_{1,1}}$ e $x_2 = {b_2 - a_{2,1} x_1 \\over a_{2,2} }$. Se seguirmos a mesma logica, podemos chegar na equação geral de solução de um sistema triangular inferior $x_i ={ b_i - \\sum_{j=1}^{i-1} a_{i,j}x_j \\over a_{i,i}}$ para $i = 1,\\cdots,n$. A formula para se resolver um sistema triangular superior é bem parecida com a de cima, apenas mudando o o intervalo do somatório, com j indo de i+1 até n:$x_i ={ b_i - \\sum_{j=i+1}^{n} a_{i,j}x_j \\over a_{i,i}}$\n",
        "\n",
        "É importante também entendermos o conceito de sistemas lineares equivalentes, onde podemos considerar dois sistemas como iguais caso o conjunto  solução de ambos forem o mesmo. Existe um teorema que afirma que se, através de operações elementares aplicadas a um sistema linear, outro acaba sendo gerado, ambos os sistemas possuem a mesma solução e desse modo são equivalentes entre si. Isto faz com que seja possível trocar uma sistema linear complicado por um mais simples de ser resolvido, já que o resultado final não vai ser alterado.\n",
        "Essas operações elementares são:\n",
        " * Trocar duas linhas da matriz. $A_i \\longleftrightarrow A_j$\n",
        " * Multiplicar uma linha por um escalar $\\alpha$ diferente de zero. $A_i \\longleftarrow \\alpha A_i$ \n",
        " * Somar à uma linha outra linha multiplicada por um escalar $\\alpha$ diferente de zero. $ A_i \\longleftarrow A_i + \\alpha A_j$\n",
        "\n",
        "### Métodos diretos\n",
        "\n",
        "Esses são procedimentos que obtém a resposta do sistema linear de maneira exata (desconsiderando erros de arrendondamento) em um determinado número de iterações. Por tal fato, a complexidade desses algoritmos são conhecidas e assim é possível calcular o tempo máximo de execução em cada caso. \n",
        "Amplamente utilizada e ensinada desde o ensino médio para a resolução desses sistemas, a regra de Cramer é um ótimo exemplo de método direto. No entanto, para uma sistema linear $nxn$ ela possui um numero máximo de iteração de ordem fatorial, o que a torna computacionalmente inviável para se resolver sistemas mais complexos.\n",
        "Para então que fosse possível aplicar tais métodos para se obter a resolução de sistemas mais práticos de porte elevado, foi necessário o estudo de outros métodos diretos com complexidade de ordem polinomial. Desses métodos podemos elencar a decomposição de cholesky, decomposição LU e a eliminação de gauss.\n",
        "\n",
        "#### Eliminação de Gauss\n",
        "\n",
        "Dado um sistema linear Ax = b, este método de Gauss consiste em realizar uma sequência de $n-1$ operações elementares na matriz expandida $ [A|b] $ com o objetivo de gerar um sistema triangular superior equivalente. Podendo então a partir daí obter a solução do sistema através de substituições regressivas.\n",
        "Para isso é necessário que o determinante de A seja diferente de zero.\n",
        "\n",
        ">\\begin{equation}\n",
        "  \\begin{bmatrix}\n",
        "     a_{1,1}&a_{1,2}&a_{1,3}&  \\cdots  & a_{1,n} & |b_1  \\\\\n",
        "     a_{2,1} & a_{2,2} & a_{2,3} & \\cdots & a_{2,n} & |b_2\\\\\n",
        "     a_{3,1}& a_{3,2} & a_{3,3} & \\cdots & a_{3,n} & |b_3\\\\\n",
        "     \\vdots  & \\vdots & \\vdots & \\ddots & \\ddots & \\vdots\\\\\n",
        "     a_{n,1} & a_{n,2} & a_{n,3} & \\cdots & a_{n,n} &|  b_n  \n",
        "  \\end{bmatrix}\n",
        "  \\overrightarrow{Op.Elementares} \\ \n",
        "  \\begin{bmatrix}\n",
        "     a'_{1,1} & a'_{1,2} & a'_{1,3} & \\cdots & a'_{1,n} & |b'_1 \\\\\n",
        "     &a'_{2,2}& a'_{2,3} & \\cdots& a'_{3,3} & |b'_2\\\\\n",
        "     &&a'_{3,3}& \\cdots& a'_{3,n} & |b'_3\\\\\n",
        "     &&&\\ddots& \\vdots   & \\vdots\\\\\n",
        "     &&&& a'_{n,n}  & |b'_n \n",
        "  \\end{bmatrix}\n",
        "\\end{equation}\n",
        "\n",
        "No entanto há algumas desvantagens ao se utilizar a eliminação de gauss. Este algoritmo não funciona quando o pivô é igual a zero e também por conta da propagação dos erros, podendo invalidar toda uma resposta. Para resolver este problema existe o método de eliminação de gauss com pivoteamento, que visa trocar o valor da diagonal para que este seja o maior possível e diferente de zero."
      ]
    },
    {
      "cell_type": "code",
      "metadata": {
        "id": "hL9DhOvSTFxz",
        "colab_type": "code",
        "colab": {}
      },
      "source": [
        "#realiza as operações elementares na matriz A a fim de se obter a matriz triangular superior\n",
        "def elimination(A, b, n):\n",
        "  for i in range(n):\n",
        "    pivot = A[i][i]\n",
        "    for k in range(i+1,n):\n",
        "      Mik = A[k][i] / pivot\n",
        "      b[k] = b[k] - Mik * b[i]\n",
        "      A[k] = A[k] - Mik * A[i] \n",
        "  \n",
        "  return A, b\n",
        "#realiza as retrosubstituições para se chegar no vetor resposta\n",
        "def retro_substitution(A, b, n):\n",
        "  x = np.zeros(n)\n",
        "  for i in range(n-1, -1,-1):\n",
        "    x[i] = b[i]\n",
        "    sum = 0 \n",
        "    j = n-1\n",
        "    while (j>i):\n",
        "      sum = sum + A[i][j] * x[j]\n",
        "      j = j-1  \n",
        "    x[i] = (x[i] - sum)/A[i][i]\n",
        "  \n",
        "  return x\n",
        "\n",
        "def gauss_elimination(A, b, n):\n",
        "  C, blinha = elimination(A,b,n)\n",
        "  x = retro_substitution(C,blinha,n)\n",
        "  return x"
      ],
      "execution_count": null,
      "outputs": []
    },
    {
      "cell_type": "markdown",
      "metadata": {
        "id": "4GT8QqqJO-hs",
        "colab_type": "text"
      },
      "source": [
        "### Métodos indiretos\n",
        "O problema de se utilizar métodos diretos para resolver os sistemas lineares é que eles conseomem muita memória do computador por conta do armazenamento da matriz A  que frequentemente é esparsa. Logo é benéfico o uso de métodos onde dá para se obter o $x^{(k+1)}$ através de $x^{(k)}$. Dessa forma, o resultado final é obtido depois de gerar uma sequência de vetores {$x^{(0)},x^{(1)},x^{(2)}, \\cdots, x^{(k)}$} que convergem para a resposta, independente do primeiro palpite $x^{(0)}$, com $\\lim_{k \\to \\infty} \\begin{Vmatrix} x^{(k)}-x\\end{Vmatrix} = 0$. (Meio confuso)\n",
        "\n",
        "Para se obter o resultado dessa forma, o intuito desses métodos é o de criar um processo recursivo aplicado a um sistema linear equivalente. Assim é necessário transformar o sistema $Ax = b$ em $x = Cx + g$, onde C é uma matriz $nxn$ e g um vetor pertencente aos conjuntos dos reais. \n",
        "\n",
        "Para provar a equivalência, podemos tomar $C = I - A$ e $g = b$. Dessa forma teremos:\n",
        "\n",
        "> $x = (I - A) x + b \\Rightarrow \\\\x = x - Ax + b \\Rightarrow \\\\ Ax = b$\n",
        "\n",
        "Como o vetor resposta apenas converge no infinito, temos que utilizar alguns criterios de parada para que o algoritmo não entre em loop eterno. Neste trabalho foi utilizado os seguintes critérios:\n",
        "* Erro absoluto:\n",
        "  * $\\begin{Vmatrix} x^{(k+1)} - x^{(k)}\\end{Vmatrix} < \\epsilon$\n",
        "* Número máximo de iterações $ k = k_max$\n",
        "\n",
        "\n",
        "#### Gauss Jacobi\n",
        "\n",
        "Considerando o sistema linear $Ax = b$ e de que para todo $ i = 1,\\cdots, n$ o valor de $a_{i,i} \\neq 0$, para se chegar no sistema equivalente demonstrado acima, o método de gauss jacobi se utiliza da estratégia de isolar as coordenadas de x da diagonal principal de A, obtendo o sistema linear a seguir:\n",
        "\n",
        "\n",
        ">  \\begin{cases}\n",
        "    x_1 = {(b_1 - a_{1,2}x_2 - a_{1,3}x_3 - \\cdots - a_{1,n}x_n)\\over a_{1,1}}   \\\\\n",
        "    x_2 =  {(b_2 - a_{2,1}x_1 - a_{2,3}x_3 - \\cdots - a_{2,n}x_n)\\over a_{2,2}}\\\\\n",
        "    \\vdots            \\\\\n",
        "    x_n =  {(b_n - a_{n,1}x_1 - a_{n,2}x_2 - \\cdots - a_{n,n-1}x_n-1)\\over a_{n,n}} \\\\\n",
        "  \\end{cases}\n",
        "\n",
        "\n",
        "É possível então transformar esse sistema equivalente na forma $x = Cx +g$, onde:\n",
        "\n",
        ">\\begin{equation}\n",
        "C = \\begin{bmatrix}\n",
        "     0 & - {a_{1,2}\\over a_{1,1}}   & - {a_{1,3}\\over a_{1,1}}&  \\cdots  & - {a_{1,n}\\over a_{1,1}}\\\\\n",
        "     - {a_{2,1}\\over a_{2,2}} & 0 & - {a_{2,3}\\over a_{2,2}} & \\cdots & - {a_{2,n}\\over a_{2,2}}\\\\\n",
        "     - {a_{3,1}\\over a_{3,3}}& - {a_{3,2}\\over a_{3,3}} & 0 & \\cdots & - {a_{3,n}\\over a_{3,3}}\\\\\n",
        "     \\vdots  & \\vdots & \\vdots & \\ddots & \\vdots\\\\\n",
        "     - {a_{2,n}\\over a_{2,2}} & - {a_{2,n}\\over a_{2,2}} & \\cdots & - {a_{n,n-1}\\over a_{n,n}}&0  \n",
        "  \\end{bmatrix}\n",
        "\\end{equation}\n",
        ">\\begin{equation}\n",
        "  g =\n",
        "  \\begin{bmatrix}\n",
        "     {b_1 \\over a_{1,1}}  \\\\\n",
        "     {b_2 \\over a_{2,2}}  \\\\\n",
        "     {b_3 \\over a_{3,3}}\\\\\n",
        "     vdots\\\\\n",
        "     {b_n \\over a_{n,n}} \n",
        "  \\end{bmatrix}\n",
        "  \\end{equation}\n",
        "\n",
        "Para o método de gauss-jacobi convergir para a solução $ax=b$, indepedentemente da escolha do chute inicial se satisfazer ou o critérios das linhas, ou o critério das colunas, cujo o módulo do maior valor de $ a_k$ seja menor em módulo do que 1. \n",
        " * Critério das linhas: \n",
        "> $ a_k = \t{ \\sum_{\\overset{j=1}{j \\neq k}}^{n} |a_{k,j}| \\over |a_{k,k}|}$\n",
        " * Critério das colunas:\n",
        ">  $ a_k = \t{\\sum_{\\overset{i=1}{i \\neq k}}^{n} |a_{i,k}| \\over |a_{k,k}|}$\n",
        "\n",
        "É interessante notar que para passar nesses critérios a matriz deve ser estritalmente diagonal dominante e que quanto menor o valor de  $ a_k $ mais rápida é a convergência.\n"
      ]
    },
    {
      "cell_type": "code",
      "metadata": {
        "id": "Iz4gDv1rUPpG",
        "colab_type": "code",
        "colab": {}
      },
      "source": [
        "def gauss_jacobi(A,b,x,n,epsilon,limit):\n",
        "  k = 1\n",
        "  errors = []\n",
        "  #critérios de paradas\n",
        "  while (np.max(np.abs(x[1]-x[0])) > epsilon) and (k < limit):\n",
        "    print(\"Iteração %d\" % k)\n",
        "    errors.append(np.max(np.abs(x[1]-x[0])))\n",
        "    if (k!=1): x[0] = x[1]\n",
        "    for i in range(n):\n",
        "      sum = 0 \n",
        "      for j in range(n):\n",
        "        if j != i: \n",
        "          sum = sum + (A[i][j] * x[0][j])\n",
        "      x[1][i] = ((b[i] - sum) / A[i][i])\n",
        "    k = k + 1\n",
        "    print(\"Erro: \", np.max(np.abs(x[1]-x[0]))) # printando os erros, melhor salvar em vetor isso\n",
        "  return x[1], k, errors"
      ],
      "execution_count": null,
      "outputs": []
    },
    {
      "cell_type": "markdown",
      "metadata": {
        "id": "LVivvnqgUby0",
        "colab_type": "text"
      },
      "source": [
        "### Gauss Seidel\n",
        "O metodo de gauss seidel utiliza a mesma teoria que gauss jacobi, com a adição de que no cálculo de $x_i^{(k+1)}$ ele utiliza os valores mais atualizados da k +1 iteração para os j < i.\n",
        "\n",
        "Para verificar a convergência, é necessário que o valor de b_i, seguindo a formula a seguir, seja em módulo menor do que um.\n",
        " > $ b_i = \t{\\sum_{\\overset{j=1}{j \\neq k}}^{n} |a_{k,j}| \\beta _j \\over |a_{k,k}|}$\n"
      ]
    },
    {
      "cell_type": "code",
      "metadata": {
        "id": "sTNhF2DzYvpJ",
        "colab_type": "code",
        "colab": {}
      },
      "source": [
        "def iteration(A, b, xi, x, n): ##iteração k, em que se calcula os valores do array x\n",
        "    for i in range(n):\n",
        "        sum1 = 0 \n",
        "        sum2 = 0\n",
        "        for j in range(0, i):\n",
        "            sum1 = sum1 + A[i][j] * x[j]\n",
        "        for j in range (i+1, n):\n",
        "            sum2 = sum2 + A[i][j] * xi[j]\n",
        "        x[i] = (1/A[i][i]) * (b[i] - sum1 - sum2)\n",
        "\n",
        "def stopCriteria(x, xi, n, e): #Critério de parada. Se retornar true, o critério foi satisfeito; se false, não foi.\n",
        "    max = -99999\n",
        "    for i in range(n):\n",
        "        tot = abs(x[i] - xi[i])\n",
        "\n",
        "        if(max < tot):\n",
        "            max = tot\n",
        "    if(max < e):\n",
        "        print(\"Erro: \", max)\n",
        "        return True\n",
        "    else:\n",
        "        print(\"Erro: \", max)\n",
        "        return False\n",
        "\n",
        "def gauss_seidel(A, b, xi, x, e, n, limit):\n",
        "    k = 1 #contador de iterações\n",
        "    \n",
        "    while(k < limit): # limite máximo de iterações\n",
        "        print(\"Iteração %d :\" % k )\n",
        "        iteration(A, b, xi, x, n)\n",
        "        if (stopCriteria(x, xi, n, e)):\n",
        "            return x,k\n",
        "        else:\n",
        "            k = k + 1\n",
        "            for i in range(n):\n",
        "                xi[i] = x[i]"
      ],
      "execution_count": null,
      "outputs": []
    },
    {
      "cell_type": "markdown",
      "metadata": {
        "colab_type": "text",
        "id": "dXyG7du3OpFn"
      },
      "source": [
        "### **3. Aplicação**"
      ]
    },
    {
      "cell_type": "markdown",
      "metadata": {
        "id": "4aOW4ERnlQkm",
        "colab_type": "text"
      },
      "source": [
        "Comparando os métodos diretos produzidos no trabalho e o da blibioteca NUMPY"
      ]
    },
    {
      "cell_type": "code",
      "metadata": {
        "id": "Cg54owLRlP2c",
        "colab_type": "code",
        "colab": {}
      },
      "source": [
        "i = 4 #dimensão do sistema\n",
        "C = np.array([[1,1,0,3],[2,1,-1,1],[3,-1,-1,2],[-1,2,3,-1]]) #matrix do sistema linear\n",
        "d = np.array([4,1,-3,4]) #vetor solução\n",
        "\n",
        "inicio1 = time.time()\n",
        "xpython = np.linalg.solve(C, d)\n",
        "fim1 = time.time()\n",
        "\n",
        "inicio2 = time.time()\n",
        "gauss = gauss_elimination(C, d, i)\n",
        "fim2 = time.time()"
      ],
      "execution_count": null,
      "outputs": []
    },
    {
      "cell_type": "code",
      "metadata": {
        "id": "aKJbv7kfnHcg",
        "colab_type": "code",
        "colab": {
          "base_uri": "https://localhost:8080/",
          "height": 88
        },
        "outputId": "2820123c-c86a-4821-9f47-ffe374826b47"
      },
      "source": [
        "print(\"Resultado do linalg.solve:\", xpython)\n",
        "print(\"Tempo de execução:\", fim1-inicio1)\n",
        "\n",
        "print(\"Resultado da eliminação de gauss:\", gauss)\n",
        "print(\"Tempo de execução:\", fim2-inicio2)"
      ],
      "execution_count": null,
      "outputs": [
        {
          "output_type": "stream",
          "text": [
            "Resultado do linalg.solve: [-1.00000000e+00  2.00000000e+00 -1.48029737e-16  1.00000000e+00]\n",
            "Tempo de execução: 0.0005774497985839844\n",
            "Resultado da eliminação de gauss: [-1.  2.  0.  1.]\n",
            "Tempo de execução: 0.00040721893310546875\n"
          ],
          "name": "stdout"
        }
      ]
    },
    {
      "cell_type": "markdown",
      "metadata": {
        "id": "_h8F0hCMo8mk",
        "colab_type": "text"
      },
      "source": [
        "Os valores são diferentes por conta de algum erro de aproximação. É possível ver que nosso algoritmo foi um pouco mais rápido, mas não a ponto de ser algo conclusivo, já que talvez tal diferença possa ser devida ao overhead de se utilizar uma função de biblioteca."
      ]
    },
    {
      "cell_type": "markdown",
      "metadata": {
        "id": "f_ChaUPOe8l-",
        "colab_type": "text"
      },
      "source": [
        "Aplicando os métodos iterativos sobre a mesma matriz para observamos o erro pela iteração de ambos."
      ]
    },
    {
      "cell_type": "code",
      "metadata": {
        "id": "0FbhNxP9e8KV",
        "colab_type": "code",
        "colab": {}
      },
      "source": [
        "n = 3 #dimensão do sistema\n",
        "A = np.array([[6,3,1],[4,9,-3],[1,-1,3]]) #matrix do sistema linear\n",
        "b = np.array([10,16,14]) #vetor solução\n",
        "x1 = np.array([-1.8,5.5,7.3]) # chute inicial\n",
        "x0 = np.zeros(3)\n",
        "x = np.vstack((x1,np.zeros(3)))\n",
        "epsilon = 0.000001 #erro\n",
        "limit = 1000000 #limite de iteracao"
      ],
      "execution_count": null,
      "outputs": []
    },
    {
      "cell_type": "code",
      "metadata": {
        "id": "Biy-cdo7fSdT",
        "colab_type": "code",
        "colab": {
          "base_uri": "https://localhost:8080/",
          "height": 1000
        },
        "outputId": "9bbe7504-6978-47b2-ea1c-7bdb0e65eda0"
      },
      "source": [
        "z, k, er = gauss_jacobi(A,b,x,n,epsilon,limit)\n",
        "print(\"Reposta do sistema linear pelo metodo de gauss jacobi:\", z)"
      ],
      "execution_count": null,
      "outputs": [
        {
          "output_type": "stream",
          "text": [
            "Iteração 1\n",
            "Erro:  0.5000000000000002\n",
            "Iteração 2\n",
            "Erro:  0.2777777777777781\n",
            "Iteração 3\n",
            "Erro:  0.12222222222222268\n",
            "Iteração 4\n",
            "Erro:  0.06790123456790154\n",
            "Iteração 5\n",
            "Erro:  0.03504801097393706\n",
            "Iteração 6\n",
            "Erro:  0.020115073921658677\n",
            "Iteração 7\n",
            "Erro:  0.011923571948719847\n",
            "Iteração 8\n",
            "Erro:  0.0071648122745515685\n",
            "Iteração 9\n",
            "Erro:  0.004760476703904892\n",
            "Iteração 10\n",
            "Erro:  0.0029677918150841087\n",
            "Iteração 11\n",
            "Erro:  0.0021250307601823337\n",
            "Iteração 12\n",
            "Erro:  0.00135424760343561\n",
            "Iteração 13\n",
            "Erro:  0.0010096357071471829\n",
            "Iteração 14\n",
            "Erro:  0.0006644152182415652\n",
            "Iteração 15\n",
            "Erro:  0.0004945495172261616\n",
            "Iteração 16\n",
            "Erro:  0.00033940384532193946\n",
            "Iteração 17\n",
            "Erro:  0.0002456420828540473\n",
            "Iteração 18\n",
            "Erro:  0.00017167645666216202\n",
            "Iteração 19\n",
            "Erro:  0.00012276358770968443\n",
            "Iteração 20\n",
            "Erro:  8.647508547454663e-05\n",
            "Iteração 21\n",
            "Erro:  6.15179010017286e-05\n",
            "Iteração 22\n",
            "Erro:  4.348059892045342e-05\n",
            "Iteração 23\n",
            "Erro:  3.086298687726696e-05\n",
            "Iteração 24\n",
            "Erro:  2.184574348884638e-05\n",
            "Iteração 25\n",
            "Erro:  1.5491456538008208e-05\n",
            "Iteração 26\n",
            "Erro:  1.0972226353267445e-05\n",
            "Iteração 27\n",
            "Erro:  7.777508810313805e-06\n",
            "Iteração 28\n",
            "Erro:  5.510118489482352e-06\n",
            "Iteração 29\n",
            "Erro:  3.905074059673552e-06\n",
            "Iteração 30\n",
            "Erro:  2.7669449336187313e-06\n",
            "Iteração 31\n",
            "Erro:  1.960809915324546e-06\n",
            "Iteração 32\n",
            "Erro:  1.3894042814044383e-06\n",
            "Iteração 33\n",
            "Erro:  9.845759789683939e-07\n",
            "Reposta do sistema linear pelo metodo de gauss jacobi: [-2.0000022   5.00000239  7.00000216]\n"
          ],
          "name": "stdout"
        }
      ]
    },
    {
      "cell_type": "code",
      "metadata": {
        "id": "fnd8_NPdfRgn",
        "colab_type": "code",
        "colab": {
          "base_uri": "https://localhost:8080/",
          "height": 781
        },
        "outputId": "2514a6e1-1ca6-4ea4-95e4-0726479c7b36"
      },
      "source": [
        "a1,a2 = gauss_seidel(A, b, x1, x0, epsilon, n, limit)\n",
        "print(\"Resposta do método iterativo Gauss-Seidel:\", a1)"
      ],
      "execution_count": null,
      "outputs": [
        {
          "output_type": "stream",
          "text": [
            "Iteração 1 :\n",
            "Erro:  0.4999999999999998\n",
            "Iteração 2 :\n",
            "Erro:  0.15370370370370434\n",
            "Iteração 3 :\n",
            "Erro:  0.0691243712848646\n",
            "Iteração 4 :\n",
            "Erro:  0.03712756919394655\n",
            "Iteração 5 :\n",
            "Erro:  0.019195472083692433\n",
            "Iteração 6 :\n",
            "Erro:  0.01000151081699352\n",
            "Iteração 7 :\n",
            "Erro:  0.005202842428961407\n",
            "Iteração 8 :\n",
            "Erro:  0.0027074323462557004\n",
            "Iteração 9 :\n",
            "Erro:  0.0014087873398755946\n",
            "Iteração 10 :\n",
            "Erro:  0.0007330595239989357\n",
            "Iteração 11 :\n",
            "Erro:  0.00038144490226477146\n",
            "Iteração 12 :\n",
            "Erro:  0.0001984836059731876\n",
            "Iteração 13 :\n",
            "Erro:  0.00010328028222605923\n",
            "Iteração 14 :\n",
            "Erro:  5.374155162218841e-05\n",
            "Iteração 15 :\n",
            "Erro:  2.7964237647282175e-05\n",
            "Iteração 16 :\n",
            "Erro:  1.4551098067805412e-05\n",
            "Iteração 17 :\n",
            "Erro:  7.5716154896987575e-06\n",
            "Iteração 18 :\n",
            "Erro:  3.939864940960547e-06\n",
            "Iteração 19 :\n",
            "Erro:  2.050095620376169e-06\n",
            "Iteração 20 :\n",
            "Erro:  1.0667604382064155e-06\n",
            "Iteração 21 :\n",
            "Erro:  5.550852457680833e-07\n",
            "Resposta do método iterativo Gauss-Seidel: [-2.0000006   5.0000005   7.00000037]\n"
          ],
          "name": "stdout"
        }
      ]
    },
    {
      "cell_type": "markdown",
      "metadata": {
        "id": "y_4TZUGsqOPU",
        "colab_type": "text"
      },
      "source": [
        "É notável que o método de gauss seidel converge mais rápido que o método de jacobi justamente por utilizar os valores mais atualizados no cálculo iterativo"
      ]
    },
    {
      "cell_type": "markdown",
      "metadata": {
        "colab_type": "text",
        "id": "xlAPEuoI-5Qq"
      },
      "source": [
        "## **MÉTODO DOS MÍNIMOS QUADRADOS**"
      ]
    },
    {
      "cell_type": "markdown",
      "metadata": {
        "colab_type": "text",
        "id": "xaSl0vWOPEjs"
      },
      "source": [
        "### **1. Teoria**"
      ]
    },
    {
      "cell_type": "markdown",
      "metadata": {
        "id": "2FDVn-L6P5I1",
        "colab_type": "text"
      },
      "source": [
        "Muitos problemas do dia-a-dia possuem erros, ou seja, valores incorretos gerados pelas coletas experimentais do problema a ser resolvido. O método dos mínimos quadrados veio da necessidade desses casos, em que precisamos aproximar valores para a função fora de um intervalo tabelado, ou ajustar pontos tirados de algum experimento. Por exemplo, em física experimental, ele considera os erros de medição.\n",
        " \n",
        "Assim, o problema que iremos resolver com o método dos mínimos quadrados é obter, dado um conjunto de funções conhecidas, a melhor reta ou curva que aproxima essas funções.\n",
        " \n",
        "Sendo assim, dados $m$ pontos de $f(x)$ em uma tabela contidos em um intervalo $[a,b]$, o método consiste em escolhermos $n$ (onde $n < m$) funções contínuas em $[a,b]$ (denotaremos tais funções como $h_1(x), h_2(x), …, h_n(x)$ ) e obter $n$ constantes ($c_1, c_2, …, c_3$), de modo que o polinômio $p(x)$:    \n",
        " \n",
        "> $p(x) = c_1h_1(x) + c_2h_2(x) + … + c+nh_n(x)$ \n",
        " \n",
        "seja o mais próximo possível de $f(x)$, ou seja, queremos minimizar o desvio entre $f(x)$ e $p(x)$ de modo que o erro seja o menor possível. Para encontrar este erro, basta calcular: \n",
        " \n",
        "> $ min (\\sum_{k=1}^m(f(x_k) - p(x_k))^2) $\n",
        " \n",
        "Portanto, para encontrar o polinômio $p(x)$ basta calcular o sistema de equações lineares do tipo $Ax=b$ abaixo:\n",
        " \n",
        "> $ \\begin{bmatrix}  \n",
        "      \\langle \\overline{h_1},\\overline{h_1}  \\rangle & \\langle \\overline{h_1},\\overline{h_2}  \\rangle & ... & \\langle \\overline{h_1},\\overline{h_n}  \\rangle \\\\      \\langle \\overline{h_2},\\overline{h_1}  \\rangle & \\langle \\overline{h_2},\\overline{h_2}  \\rangle & ... & \\langle \\overline{h_2},\\overline{h_n}  \\rangle \\\\ ... & ... & ... & ...\\\\\n",
        "       \\langle \\overline{h_n},\\overline{h_1}  \\rangle & \\langle \\overline{h_n},\\overline{h_2}  \\rangle & ... & \\langle \\overline{h_n},\\overline{h_n}  \\rangle \\end{bmatrix}\n",
        "      \\begin{bmatrix} c_1 \\\\ c_2 \\\\ ... \\\\ c_3\\end{bmatrix} = \n",
        "      \\begin{bmatrix} \\langle \\overline{f},\\overline{h_1}  \\rangle \\\\ \\langle \\overline{f},\\overline{h_2}  \\rangle \\\\ .. \\\\ \\langle \\overline{f},\\overline{h_n}  \\rangle \\end{bmatrix}$\n",
        " \n",
        "que possui solução única ($c_1, c_2, ..., c_n$), onde $\\langle \\overline{a},\\overline{b}  \\rangle$ é o produto escalar de $a$ por $b$, e a matriz $A$ é simétrica $(n\\times n)$.\n",
        " \n",
        "**- Caso Não-Linear**\n",
        " \n",
        "Os casos acima são válidos para casos Lineares. No entanto, é possível também que os casos sejam não-lineares, e, para resolver isto, basta linearizá-los e então resolvê-los normalmente como mostrado acima. A forma de linearizar as funções depende do tipo do problema. Alguns casos de linearização são, por exemplo:\n",
        " \n",
        "> **1) $f(x) \\approx \\frac{1}{c_1 + c_2x} = p(x)$**\n",
        " \n",
        "$\\frac{1}{f(x)} \\approx c_1 + c_2 x = \\phi (x)$\n",
        " \n",
        " \n",
        "> **2) $f(x) \\approx c_1 e^{c_2 x} = p(x)$**\n",
        "\n",
        "$ln(f(x)) \\approx ln(c_1) + c_2 x = a_1 + a_2 x = \\phi (x)$\n",
        "\n",
        "Resolvendo este sistema linear, obtemos:\n",
        "\n",
        "$a_1 = ln(c_1) \\Longrightarrow c_1 = e^a_1$\n",
        "\n",
        "$a_2 = c_2 \\Longrightarrow c_2 = a_2$\n",
        " \n",
        " \n",
        "> **3) $f(x) \\approx c_1 c_2^x = p(x)$**\n",
        " \n",
        "$ln(f(x)) \\approx ln(c_1) + xln(c_2) = a_1 + a_2 x = \\phi (x)$ \n",
        " \n",
        "Resolvendo este sistema linear, obtemos:\n",
        " \n",
        "$a_1 = ln(c_1) \\Longrightarrow c_1 = e^{a_1}$\n",
        " \n",
        "$a_2 = ln(c_2) \\Longrightarrow c_2 = e^{a_2}$\n",
        " \n",
        " \n",
        "> **4) $f(x) \\approx c_1 x^{c_2} = p(x)$**\n",
        " \n",
        "$ln(f(x)) \\approx ln(c_1) + c_2 ln(x) = a_1 + a_2 ln(x) = \\phi (x)$\n",
        " \n",
        "Resolvendo este sistema linear, obtemos:\n",
        " \n",
        "$a_1 = ln(c_1) \\Longrightarrow c_1 = e^{a_1}$\n",
        " \n",
        "$a_2 = c_2$\n",
        " \n",
        "> **5) $f(x) \\approx \\sqrt{c_1 + c_2 x} = p(x)$**\n",
        " \n",
        "$[f(x)]^2 \\approx c_1 + c_2 x = \\phi (x)$\n",
        "\n",
        "> **6) $f(x) \\approx x ln(c_1 + c_1 x)$**\n",
        "\n",
        "$e^{\\frac{f(x)}{x}} = c_1 + c_2x = \\phi (x)$\n",
        "\n"
      ]
    },
    {
      "cell_type": "markdown",
      "metadata": {
        "colab_type": "text",
        "id": "K3aC2uo8PFGI"
      },
      "source": [
        "### **2. Códigos**"
      ]
    },
    {
      "cell_type": "code",
      "metadata": {
        "id": "ifupVQMU_IVJ",
        "colab_type": "code",
        "colab": {}
      },
      "source": [
        "f = np.array([0.459,0.828,1.006,1.150,1.354,1.261,1.157,0.834,0.511]) #vetor de valores f\n",
        "M = np.array([[0.01,0.04,0.09,0.16,0.25,0.36,0.49,0.64,0.81],[0.1,0.2,0.3,0.4,0.5,0.6,0.7,0.8,0.9],[1,1,1,1,1,1,1,1,1]]) #matriz com os n vetores hk\n",
        "n = 3 #dimensão da matriz simétrica A"
      ],
      "execution_count": null,
      "outputs": []
    },
    {
      "cell_type": "code",
      "metadata": {
        "id": "NrGJooRL_Ka3",
        "colab_type": "code",
        "colab": {}
      },
      "source": [
        "def min_quadrados(f, M, n):\n",
        "    A = np.zeros((n,n)) # matriz n x n cheia de zeros\n",
        "    b = np.zeros(n) #vetor b de tamanho n cheia de zeros\n",
        "    for i in range(n):\n",
        "        for j in range(i+1):\n",
        "            A[i][j] = round(np.dot(M[i],M[j]), 3) # np.dot calcula o produto escalar entre dois vetores\n",
        "            A[j][i] = round(np.dot(M[i],M[j]), 3)\n",
        "    \n",
        "    for i in range(n):\n",
        "        b[i] = round(np.dot(f,M[i]), 3)\n",
        "    \n",
        "    #print(\"A = \", A)\n",
        "    #print(\"b = \", b)\n",
        "\n",
        "    return A, b\n",
        "    # utilizando o método de resolução de sistemas lineares para encontrar os coeficientes da solução\n",
        "    #return gauss_elimination(A, b, n)"
      ],
      "execution_count": null,
      "outputs": []
    },
    {
      "cell_type": "code",
      "metadata": {
        "id": "Xt0H0cqk_So7",
        "colab_type": "code",
        "colab": {
          "base_uri": "https://localhost:8080/",
          "height": 124
        },
        "outputId": "bc90bb7a-6b5e-40a1-e8ac-918c50138bdd"
      },
      "source": [
        "A, b = min_quadrados(f,M,n)\n",
        "print(\"Sistema Linear da solução dos mínimos quadrados:\")\n",
        "print(\"A = \", A)\n",
        "print(\"B = \", b)\n",
        "\n",
        "#print(\"Resposta dos mínimos quadrados:\", min_quadrados(f, M, n))\n",
        "\n",
        "print(\"Solução do Sistema Linear:\", gauss_elimination(A, b, n))"
      ],
      "execution_count": null,
      "outputs": [
        {
          "output_type": "stream",
          "text": [
            "Sistema Linear da solução dos mínimos quadrados:\n",
            "A =  [[1.533 2.025 2.85 ]\n",
            " [2.025 2.85  4.5  ]\n",
            " [2.85  4.5   9.   ]]\n",
            "B =  [2.619 4.344 8.56 ]\n",
            "Solução do Sistema Linear: [-5.10382514  5.2104918  -0.0379235 ]\n"
          ],
          "name": "stdout"
        }
      ]
    },
    {
      "cell_type": "markdown",
      "metadata": {
        "colab_type": "text",
        "id": "sWWWUCs-PFK8"
      },
      "source": [
        "### **3. Aplicação**"
      ]
    },
    {
      "cell_type": "markdown",
      "metadata": {
        "id": "dOa7mULLnj5S",
        "colab_type": "text"
      },
      "source": [
        "**Aplicação 1)** Utilizando o método dos mínimos quadrados implementados para resolver o sistema linear abaixo:\n",
        "\n",
        "Aproximar a função $f(x) = e^x$ pela parábola $p(x) = c_1 x^2 + c_2 x + c_3$.\n",
        " \n",
        "Sendo: \n",
        " \n",
        "$h_1 (t) = t^2$\n",
        " \n",
        "$h_2 (t) = t$\n",
        " \n",
        "$h_1 (t) = 1$\n",
        " \n",
        "Temos que:\n",
        " \n",
        "$\\overline{h_1}= (0.01,0.04,0.09,0.16,0.25,0.36,0.49,0.64,0.81)$\n",
        " \n",
        "$\\overline{h_2}= (0.1,0.2,0.3,0.4,0.5,0.6,0.7,0.8,0.9)$\n",
        " \n",
        "$\\overline{h_3}= (1,1,1,1,1,1,1,1,1)$\n",
        " \n",
        "$\\overline{f} = (1.105,1.221,1.348,1.491,1.64,1.822,2.013,2.22,2.459)$\n",
        " \n",
        "Utilizando o método dos mínimos quadrados para chegar no sistema do tipo abaixo:\n",
        " \n",
        "> $ \\begin{bmatrix}  \n",
        "      \\langle \\overline{h_1},\\overline{h_1}  \\rangle & \\langle \\overline{h_1},\\overline{h_2}  \\rangle & ... & \\langle \\overline{h_1},\\overline{h_n}  \\rangle \\\\      \\langle \\overline{h_2},\\overline{h_1}  \\rangle & \\langle \\overline{h_2},\\overline{h_2}  \\rangle & ... & \\langle \\overline{h_2},\\overline{h_n}  \\rangle \\\\ ... & ... & ... & ...\\\\\n",
        "       \\langle \\overline{h_n},\\overline{h_1}  \\rangle & \\langle \\overline{h_n},\\overline{h_2}  \\rangle & ... & \\langle \\overline{h_n},\\overline{h_n}  \\rangle \\end{bmatrix}\n",
        "      \\begin{bmatrix} c_1 \\\\ c_2 \\\\ ... \\\\ c_3\\end{bmatrix} = \n",
        "      \\begin{bmatrix} \\langle \\overline{f},\\overline{h_1}  \\rangle \\\\ \\langle \\overline{f},\\overline{h_2}  \\rangle \\\\ .. \\\\ \\langle \\overline{f},\\overline{h_n}  \\rangle \\end{bmatrix}$\n",
        "\n",
        "\n",
        " \n",
        " \n"
      ]
    },
    {
      "cell_type": "code",
      "metadata": {
        "id": "mGtlX_zen9yS",
        "colab_type": "code",
        "colab": {
          "base_uri": "https://localhost:8080/",
          "height": 106
        },
        "outputId": "d23087ee-d3da-47a1-d46f-74c1016aa9a2"
      },
      "source": [
        "f = np.array([1.105,1.221,1.348,1.491,1.64,1.822,2.013,2.22,2.459]) #vetor de valores f\n",
        "M = np.array([[0.01,0.04,0.09,0.16,0.25,0.36,0.49,0.64,0.81],[0.1,0.2,0.3,0.4,0.5,0.6,0.7,0.8,0.9],[1,1,1,1,1,1,1,1,1]]) #matriz com os n vetores hk\n",
        "n = 3 #dimensão da matriz simétrica A\n",
        "\n",
        "A, b = min_quadrados(f,M,n)\n",
        "print(\"Sistema Linear da solução dos mínimos quadrados:\")\n",
        "print(\"A = \", A)\n",
        "print(\"B = \", b)"
      ],
      "execution_count": null,
      "outputs": [
        {
          "output_type": "stream",
          "text": [
            "Sistema Linear da solução dos mínimos quadrados:\n",
            "A =  [[1.533 2.025 2.85 ]\n",
            " [2.025 2.85  4.5  ]\n",
            " [2.85  4.5   9.   ]]\n",
            "B =  [ 5.885  8.667 15.319]\n"
          ],
          "name": "stdout"
        }
      ]
    },
    {
      "cell_type": "markdown",
      "metadata": {
        "id": "jRKYji_orv6O",
        "colab_type": "text"
      },
      "source": [
        "Chegando no sistema:\n",
        "\n",
        "$\\begin{equation}\n",
        "    \\left[ \\begin{array}{ccc}\n",
        "        1.533 & 2.085 & 2.85 \\\\\n",
        "        2.025 & 2.85 & 4.5 \\\\\n",
        "        2.85 & 4.5 & 9\n",
        "    \\end{array} \\right] \\left[ \\begin{array}{c}\n",
        "        c_1 \\\\ c_2 \\\\ c_3\n",
        "    \\end{array} \\right] = \\left[ \\begin{array}{c}\n",
        "        5.885 \\\\ 8.667 \\\\ 15.319\n",
        "    \\end{array} \\right]\n",
        "\\end{equation}$\n",
        "\n",
        " \n",
        "E então utilizando o método de eliminação de gauss para resolver o sistema encontrado:\n",
        " "
      ]
    },
    {
      "cell_type": "code",
      "metadata": {
        "id": "WywkzhIJtMKP",
        "colab_type": "code",
        "colab": {
          "base_uri": "https://localhost:8080/",
          "height": 35
        },
        "outputId": "be892898-42c5-4007-c755-cb0e0b0fff14"
      },
      "source": [
        "coef = gauss_elimination(A, b, n)\n",
        "print(\"Solução do Sistema Linear:\", coef)"
      ],
      "execution_count": null,
      "outputs": [
        {
          "output_type": "stream",
          "text": [
            "Solução do Sistema Linear: [0.86830601 0.81086066 1.02171721]\n"
          ],
          "name": "stdout"
        }
      ]
    },
    {
      "cell_type": "markdown",
      "metadata": {
        "id": "NY5sDzSZthVo",
        "colab_type": "text"
      },
      "source": [
        "Obtemos, então, os coeficientes de $p(x)$:\n",
        "\n",
        "$c_1 = 0.8683$\n",
        "\n",
        "$c_2 = 0.8108$\n",
        "\n",
        "$c_3 = 1.0217$\n",
        "\n",
        "Portanto, $p(x) = 0.8683 x^2 + 0.8108 x + 1.0217\n",
        "\n",
        "Plotando em um gráfico, podemos ver o desvio entre $f(x)$ e $p(x)$:"
      ]
    },
    {
      "cell_type": "code",
      "metadata": {
        "id": "q6G68AyQvZwv",
        "colab_type": "code",
        "colab": {
          "base_uri": "https://localhost:8080/",
          "height": 407
        },
        "outputId": "5f17015e-979c-4b6b-c4e8-3fb03bd7c1ff"
      },
      "source": [
        "p = lambda x: coef[2] + coef[1]*x + coef[0]*x**2;\n",
        "x = np.linspace(0, 1, num=41, endpoint=True)\n",
        "# Vamos plotar os resultados\n",
        "plt.figure(figsize=(10,6),facecolor='white')\n",
        "plt.plot(x,np.exp(x),label = 'f(x)',linewidth = 3)\n",
        "plt.plot(x,p(x),label = 'p(x)',linewidth = 2,marker='>')\n",
        "plt.xlabel('x',fontsize='large') \n",
        "plt.ylabel('y',fontsize='large') \n",
        "plt.title('Comparação da função aproximada') \n",
        "plt.legend(fontsize='large') \n",
        "plt.show()"
      ],
      "execution_count": null,
      "outputs": [
        {
          "output_type": "display_data",
          "data": {
            "image/png": "[encoded data removed]",
            "text/plain": [
              "<Figure size 720x432 with 1 Axes>"
            ]
          },
          "metadata": {
            "tags": []
          }
        }
      ]
    },
    {
      "cell_type": "markdown",
      "metadata": {
        "id": "k73gYRCJw2o_",
        "colab_type": "text"
      },
      "source": [
        "No gráfico acima, podemos ver que o desvio entre f(x) e p(x) é bem pequeno."
      ]
    },
    {
      "cell_type": "markdown",
      "metadata": {
        "id": "SWOpQZ6H_VaJ",
        "colab_type": "text"
      },
      "source": [
        "**Aplicação 2)** Utilizando o método dos mínimos quadrados para encontrar a reta $f(x)$ que melhor se ajusta a tabela de dados referente à taxa bruta de natalidade no Brasil do ano 1950 à 2000.\n",
        "\n",
        "\n",
        "**Período __ Taxa bruta de natalidade**\n",
        "  \n",
        " $ \\begin{matrix} \n",
        "   & Período & Taxa-bruta-de-natalidade\\\\ \n",
        "  (0) & 1950 & 43.50\\\\ \n",
        "  (1) & 1960 & 44.00\\\\\n",
        "  (2) & 1970 & 37.70\\\\\n",
        "  (3) & 1980 & 31.87\\\\\n",
        "  (4) & 1990 & 23.72\\\\\n",
        "  (5) & 2000 & 21.06\\\\\n",
        "  \\end{matrix}\n",
        "$\n",
        "\n",
        "\n",
        "**Tabela**: Taxa bruta de natalidade no Brasil entre 1950 à 2000\n",
        "\n",
        "Assim, sendo $f(x)$ os valores da tabela, e sendo $t$ os anos (iniciando em 0, ou seja, 1950 $\\Longrightarrow$ $t=0$, 1960 $\\Longrightarrow$ $t=1$, etc), temos:\n",
        "\n",
        "$\\overline{h_1}= (0,1,2,3,4,5)$\n",
        " \n",
        "$\\overline{h_2}= (1,1,1,1,1,1)$\n",
        " \n",
        "$\\overline{f} = (43.5,44.0,37.7,31.87,23.72,21.06)$\n",
        "\n",
        "Aplicando os valores no método dos mínimos quadrados:\n",
        "\n",
        "\n"
      ]
    },
    {
      "cell_type": "code",
      "metadata": {
        "id": "xqmeBMt4H8ii",
        "colab_type": "code",
        "colab": {
          "base_uri": "https://localhost:8080/",
          "height": 88
        },
        "outputId": "bbe97f0e-1612-4632-9f93-8d918f00c917"
      },
      "source": [
        "f = np.array([43.5,44.0,37.7,31.87,23.72,21.06]) #vetor de valores f(x)\n",
        "M = np.array([[0,1,2,3,4,5],[1,1,1,1,1,1]]) #matriz com os n vetores hk\n",
        "n = 2 #dimensão da matriz simétrica A\n",
        "\n",
        "A, b = min_quadrados(f,M,n)\n",
        "print(\"Sistema Linear da solução dos mínimos quadrados:\")\n",
        "print(\"A = \", A)\n",
        "print(\"B = \", b)"
      ],
      "execution_count": null,
      "outputs": [
        {
          "output_type": "stream",
          "text": [
            "Sistema Linear da solução dos mínimos quadrados:\n",
            "A =  [[55. 15.]\n",
            " [15.  6.]]\n",
            "B =  [415.19 201.85]\n"
          ],
          "name": "stdout"
        }
      ]
    },
    {
      "cell_type": "markdown",
      "metadata": {
        "id": "h89hJodnIQp4",
        "colab_type": "text"
      },
      "source": [
        "Chegamos no sistema:\n",
        "\n",
        "$\\begin{equation}\n",
        "    \\left[ \\begin{array}{ccc}\n",
        "        55 & 15 \\\\\n",
        "        15 & 6\n",
        "    \\end{array} \\right] \\left[ \\begin{array}{c}\n",
        "        c_1 \\\\ c_2\n",
        "    \\end{array} \\right] = \\left[ \\begin{array}{c}\n",
        "        415.19 \\\\ 201.85\n",
        "    \\end{array} \\right]\n",
        "\\end{equation}$\n",
        "\n",
        "Aplicando o método da Eliminação de Gauss para resolver o Sistema linear acima:"
      ]
    },
    {
      "cell_type": "code",
      "metadata": {
        "id": "9BBxDKmdIW_h",
        "colab_type": "code",
        "colab": {
          "base_uri": "https://localhost:8080/",
          "height": 35
        },
        "outputId": "cf8669cc-6a36-4ad4-c86b-59f552c680a2"
      },
      "source": [
        "coef = gauss_elimination(A, b, n)\n",
        "print(\"Solução do Sistema Linear:\", coef)"
      ],
      "execution_count": null,
      "outputs": [
        {
          "output_type": "stream",
          "text": [
            "Solução do Sistema Linear: [-5.11057143 46.41809524]\n"
          ],
          "name": "stdout"
        }
      ]
    },
    {
      "cell_type": "markdown",
      "metadata": {
        "id": "DwvdzhZjI_wI",
        "colab_type": "text"
      },
      "source": [
        "Obtemos, então, os coeficientes de $p(x)$:\n",
        "\n",
        "$c_1 = -5.1105$\n",
        "\n",
        "$c_2 = 46.4180$\n",
        "\n",
        "Portanto, a reta que melhor se ajusta à tabela de dados referente à taxa bruta de natalidade no Brasil do ano 1950 à 2000 é:\n",
        "\n",
        "> $p(x) = -5.1105 x + 46.4180$\n",
        "\n",
        "\n",
        "\n",
        "\n",
        "Plotando em um gráfico, podemos ver o desvio entre $f(x)$ e $p(x)$:"
      ]
    },
    {
      "cell_type": "code",
      "metadata": {
        "id": "BCUglRhHJy15",
        "colab_type": "code",
        "colab": {
          "base_uri": "https://localhost:8080/",
          "height": 407
        },
        "outputId": "33bd8263-fb7e-41ac-9393-7c6b50499021"
      },
      "source": [
        "p = lambda x: coef[1] + coef[0]*x\n",
        "x = np.linspace(0, 5, num=6, endpoint=True)\n",
        " \n",
        "plt.figure(figsize=(3,6),facecolor='white')\n",
        "plt.plot(x,f,'ro',label = 'f(x)',linewidth = 3)\n",
        "plt.plot(x,p(x),label = 'p(x)',linewidth = 2,marker='>')\n",
        "plt.xlabel('x',fontsize='large') \n",
        "plt.ylabel('y',fontsize='large') \n",
        "plt.title('Comparação da função aproximada') \n",
        "plt.legend(fontsize='large') \n",
        "plt.show()\n"
      ],
      "execution_count": null,
      "outputs": [
        {
          "output_type": "display_data",
          "data": {
            "image/png": "[encoded data removed]",
            "text/plain": [
              "<Figure size 216x432 with 1 Axes>"
            ]
          },
          "metadata": {
            "tags": []
          }
        }
      ]
    },
    {
      "cell_type": "markdown",
      "metadata": {
        "id": "Ue4YZM2xKfNb",
        "colab_type": "text"
      },
      "source": [
        "Com isso, podemos fazer uma previsão para o ano de 2020, que é representado por $x = 7$:\n",
        "\n",
        "$p(x) = −5.1105x+46.4180$\n",
        "\n",
        "$p(7) = −5.1105 \\times 7+46.4180$\n",
        "\n",
        "$p(7) = -35.7735+46.4180$\n",
        "\n",
        "$p(7) = 10.6445$\n",
        "\n",
        "Ou seja, a taxa de natalidade prevista para o ano de 2020 é de $10.65$%"
      ]
    },
    {
      "cell_type": "markdown",
      "metadata": {
        "colab_type": "text",
        "id": "rwz-0b-imRkr"
      },
      "source": [
        "## **MÉTODO DE RESOLUÇÃO DE SISTEMAS NÃO LINEARES**"
      ]
    },
    {
      "cell_type": "markdown",
      "metadata": {
        "colab_type": "text",
        "id": "vHV79fO7POq8"
      },
      "source": [
        "### **1. Teoria**"
      ]
    },
    {
      "cell_type": "markdown",
      "metadata": {
        "id": "ko9CnoCTQEdJ",
        "colab_type": "text"
      },
      "source": [
        "Na vida academica, ao longo da vida, estamos acostumados a trabalhar com sistemas de equações lineares, pois estes tem propriedades que facilitam muito os cálculos. No entanto, no mundo real a maioria dos problemas não ocorrem de forma linear.\n",
        "\n",
        "Sistemas não lineares são frequentemente utilizados para cálculos e estudo em diferentes áreas, como biológias, socais, criptografia, telecomunicações, economia, linguística, e várias outras áreas em que são considerados diversos fatores, obtendo assim diversas váriáveis, ou seja, um sistema não linear.\n",
        "\n",
        "Uma equação que contenha uma expressão do tipo $x^2, y^{-2}, x\\cdot y, z, y, sen(x), ex+z$ ,etc, é chamada não-linear em $x, y, z, ...$, porque ela não pode ser escrita como $ax + by + cz + ... = cte$ que é uma equação linear em $x, y, z$,... . \n",
        "\n",
        "Um sistema de equações não lineares é um conjunto de equações não lineares, onde os polinômios são de grau maior que um, resultando em infinitas variáveis. Trazendo todos os termos diferentes de zero à esquerda de todas as equações, tem-se uma forma geral que pode ser usada para qualquer sistema não-linear. \n",
        "\n",
        "Sendo assim, queremos resolveremos sistemas de $n$ equações não lineares e $n$ incógnitas do tipo $F(x) = 0$:\n",
        "\n",
        ">$S =\n",
        "  \\begin{cases}\n",
        "    f_1(x_1,x_2,...,x_n) = 0  \\\\\n",
        "    f_2(x_1,x_2,...,x_n) = 0  \\\\\n",
        "    ...            \\\\\n",
        "    f_n(x_1,x_2,...,x_n) = 0  \\\\\n",
        "  \\end{cases}\n",
        "$\n",
        "\n",
        "\n",
        "Apesar de não ser fácil de ser resolvido, existem métodos que resolvem estes sistemas, sendo que um dos principais métodos usados para a resolução de um sistema não-linear é o **Método de Newton para Sistemas**.  \n",
        "\n",
        "**- Método de Newton para Sistemas**\n",
        "\n",
        "Basicamente, o Método de Newton, a partir de uma aproximação inicial $x_0$ , \n",
        "e assumindo que a função $F(x)$ é diferenciável e que existe um ponto $x_∗$ tal que $F(x_∗)= 0$, consiste em definir a sequência {$x_k$} através dos seguintes passos: \n",
        "\n",
        "> - A resolução do sistema linear: $J(x_k) s_k = −F(x_k)$\n",
        ">\n",
        "> - A atualização do novo valor $x_{k+1} = x_k + s_k$\n",
        "\n",
        "Onde $s_k$ é a solução do sistema linear acima, e $J(x_k)$ é a matriz jacobiana dada por:\n",
        "\n",
        "> $  \n",
        "  \\begin{equation*}\n",
        "  J(x) = \n",
        "  \\begin{bmatrix}\n",
        "    \\frac{∂f_1(x)}{∂x_1} \t&\t\\frac{∂f_1(x)}{∂x_2} & ........ &\t\\frac{∂f_1(x)}{∂x_n} \\\\\n",
        "    \\frac{∂f_2(x)}{∂x_1} \t&\t\\frac{∂f_2(x)}{∂x_2} &........ &\t\\frac{∂f_2(x)}{∂x_n} \\\\\n",
        "    ...\t\t\t\t \\\\\n",
        "    \\frac{∂f_n(x)}{∂x_1} \t&\t\\frac{∂f_n(x)}{∂x_2} & ........ &\t\\frac{∂f_n(x)}{∂x_n}  \\\\\n",
        "  \\end{bmatrix}\n",
        "  \\end{equation*}\n",
        "$\n",
        "\n",
        "Com isso, são realizadas $k$ iterações, a partir da utilização destas aproximações lineares para $k = 0, 1, 2, ...$, gerando uma sequência que, sob certas hipóteses, converge para a solução. Além disso, como em qualquer método iterativo, é preciso ter um critério de parada para aceitar um ponto $x_k$ \n",
        "como uma boa aproximação da solução exata $x_∗$. Um critério de parada (utilizado na implementação do método de newton neste trabalho) é o do erro absoluto, que consiste em vericar se a norma entre duas iterações sucessivas está próxima de zero (dado um erro $e$ máximo), isto é, escolhemos $x_{k+1}$ como uma boa aproximação para a solução exata $x_∗$ , se temos $||x_{k+1} − x_k || < e$.\n"
      ]
    },
    {
      "cell_type": "markdown",
      "metadata": {
        "colab_type": "text",
        "id": "QOaDCgNWPP6k"
      },
      "source": [
        "### **2. Códigos**"
      ]
    },
    {
      "cell_type": "markdown",
      "metadata": {
        "id": "UBkTNnErmqEc",
        "colab_type": "text"
      },
      "source": [
        "**I) Método de Newton**"
      ]
    },
    {
      "cell_type": "code",
      "metadata": {
        "id": "Mv2WO_1wrkb9",
        "colab_type": "code",
        "colab": {}
      },
      "source": [
        "def toJacobian(f, x, n):\n",
        "    J = np.zeros((n, n))\n",
        "    for i in range(n): #para cada linha\n",
        "        for j in range(n): #para cada coluna\n",
        "            for k in range(n): #para cada x (x1, x2, x3, etc) -> por ex se n=2, temos x1 e x2\n",
        "                if(i == k): \n",
        "                    J[i][j] = f[i][j] * (i+1) * (x[j] ** i) ##derivando e ja substituindo x\n",
        "    return J"
      ],
      "execution_count": null,
      "outputs": []
    },
    {
      "cell_type": "code",
      "metadata": {
        "id": "ZjEUXa9yrnmk",
        "colab_type": "code",
        "colab": {}
      },
      "source": [
        "def iteration_newton(n, xi, F, e):\n",
        "    Jx = np.zeros((n,n)) #(A) matriz n x n cheia de zeros \n",
        "    Fx = np.zeros(n) #(b) vetor de tamanho n cheia de zeros \n",
        "\n",
        "    #encontrando o sistema Ax=b \n",
        "    for i in range(n): #Encontrando o 'b' (Fx)\n",
        "        Fx[i] = F[i][n]\n",
        "        for j in range(n):\n",
        "            Fx[i] = Fx[i] + F[i][j] * (xi[j] ** (i+1))\n",
        "    Jx = toJacobian(F, xi, n) #encontrando o 'A' (Jx)\n",
        "\n",
        "    y = gauss_elimination(Jx, -Fx, n) #gauss(A,b,n) resolvendo o sistema linear A.x=b (ou Jx.x=-Fx) usando o metodo da eliminação de gauss\n",
        "    x = xi + y\n",
        "    return x"
      ],
      "execution_count": null,
      "outputs": []
    },
    {
      "cell_type": "code",
      "metadata": {
        "id": "KTjdWpehrqjZ",
        "colab_type": "code",
        "colab": {}
      },
      "source": [
        "def newton(n, xi, F, e):\n",
        "    k = 1 #contador de iterações\n",
        "    while (k < 25):\n",
        "        x = iteration_newton(n, xi, F, e)\n",
        "        if (stopCriteria(x, xi, n, e)):\n",
        "            return x,k\n",
        "        else:\n",
        "            k = k + 1\n",
        "            for i in range(n):\n",
        "                xi[i] = x[i]"
      ],
      "execution_count": null,
      "outputs": []
    },
    {
      "cell_type": "markdown",
      "metadata": {
        "colab_type": "text",
        "id": "oLobJZ3rPPzH"
      },
      "source": [
        "### **3. Aplicação**"
      ]
    },
    {
      "cell_type": "markdown",
      "metadata": {
        "id": "7WkSeZKLj0lD",
        "colab_type": "text"
      },
      "source": [
        "Sistemas de equações não-lineares podem ser utilizados para, por exemplo, explicar o funcionamento do cérebro humano, pra ver quais partes se ativam ao realizarmos determinadas atividades. Para isso, devem ser levados em conta diversos fatores, considerando componentes químicos, físicos e biológicos do cérebro, obtendo diversas variáveis, ou seja, um sistema não linear para cada pessoa avaliada.\n",
        " \n",
        "**Aplicação 1)** Utilizando o método de Newton para resolver o sistema não-linear $F(x)=0$, sendo:\n",
        "> $\\begin{equation}\n",
        "  F(x) =\n",
        "  \\begin{bmatrix}\n",
        "     {x_1 + x_2 - 5}  \\\\\n",
        "     {x_1^2 + x_2^2 - 25}\n",
        "  \\end{bmatrix}\n",
        "  \\end{equation}$\n",
        "\n",
        " \n",
        "e usando como aproximação inicial $x^{(0)} = [-1, 6]$ e $erro = 0.1$\n",
        " \n",
        "Pelo método de Newton, encontraremos a Jacobiana $J(x)$ da forma:\n",
        "\n",
        "> $  \n",
        "  \\begin{equation*}\n",
        "  J(x) = \n",
        "  \\begin{bmatrix}\n",
        "    \\frac{∂f_1(x)}{∂x_1} \t&\t\\frac{∂f_1(x)}{∂x_2}\\\\\n",
        "    \\frac{∂f_2(x)}{∂x_1} \t&\t\\frac{∂f_2(x)}{∂x_2}\n",
        "  \\end{bmatrix}\n",
        "  \\end{equation*}\n",
        "$\n",
        " \n",
        "- Primeira iteração ($k = 0$):\n",
        "\n",
        "Substituindo $x^{(0)}$ em $J(x)$ e $F(x)$, obtendo então:\n",
        " \n",
        "> $\\begin{equation}\n",
        "  F(x^{(0)}) =\n",
        "  \\begin{bmatrix}\n",
        "     {0}  \\\\\n",
        "     {12}\n",
        "  \\end{bmatrix}\n",
        "  \\end{equation}$\n",
        " \n",
        "> $  \n",
        "  \\begin{equation*}\n",
        "  J(x^{(0)}) = \n",
        "  \\begin{bmatrix}\n",
        "    1 \t&\t1\\\\\n",
        "    -2 \t&\t12\n",
        "  \\end{bmatrix}\n",
        "  \\end{equation*}\n",
        "$\n",
        " \n",
        "Agora, utilizando o método da Eliminação de Gauss para resolver o Sistema Linear $J(x^{(0)})s^{(0)} = -F(x^{(0)})$:\n",
        " \n",
        "Obtemos\n",
        " $\\begin{equation}\n",
        "  s^{(0)} =\n",
        "  \\begin{bmatrix}\n",
        "     {0.86}  &   {-0.86}\n",
        "  \\end{bmatrix}\n",
        "  \\end{equation}$ $^T$\n",
        "\n",
        "Então, $x^{(1)} = x^{(0)} + s^{(0)} =$ \n",
        " $\\begin{equation}\n",
        "  \\begin{bmatrix}\n",
        "     {-0.14}  \\\\   {5.14}\n",
        "  \\end{bmatrix}\n",
        "  \\end{equation}$\n",
        "\n",
        "Verificando se passa pelo critério de parada:\n",
        "\n",
        "$max(|x^{(k+1)} - x^{(k)}|) < erro$\n",
        "\n",
        "$|x_1^{(1)} - x_1^{(0)}| = 0.86 > erro$, portanto não passa no critério, e iremos para a próxima iteração:\n",
        "\n",
        "- Segunda iteração ($k = 1:$)\n",
        "\n",
        "Calculando $J(x^{(1)})$ e $F(x^{(1)})$:\n",
        "\n",
        "> $\\begin{equation}\n",
        "  F(x^{(1)}) =\n",
        "  \\begin{bmatrix}\n",
        "     {0}  \\\\\n",
        "     {1.44}\n",
        "  \\end{bmatrix}\n",
        "  \\end{equation}$\n",
        " \n",
        "> $  \n",
        "  \\begin{equation*}\n",
        "  J(x^{(1)}) = \n",
        "  \\begin{bmatrix}\n",
        "    1 \t&\t1\\\\\n",
        "    -0.28 \t&\t10.28\n",
        "  \\end{bmatrix}\n",
        "  \\end{equation*}\n",
        "$\n",
        "\n",
        "E resolvendo o sistema $J(x^{(0)})s^{(0)} = -F(x^{(0)})$:\n",
        "\n",
        "Obtemos\n",
        " $\\begin{equation}\n",
        "  s^{(1)} =\n",
        "  \\begin{bmatrix}\n",
        "     {0.14}  &   {-0.14}\n",
        "  \\end{bmatrix}\n",
        "  \\end{equation}$ $^T$\n",
        "\n",
        "Então, $x^{(2)} = x^{(1)} + s^{(1)} =$ \n",
        " $\\begin{equation}\n",
        "  \\begin{bmatrix}\n",
        "     {0}  \\\\   {5}\n",
        "  \\end{bmatrix}\n",
        "  \\end{equation}$\n",
        "\n",
        "\n",
        "Verificando se passa pelo critério de parada:\n",
        "\n",
        "$max(|x^{(2)} - x^{(1)}|) = 0 < 0.1$\n",
        "\n",
        "Portanto, encontramos o resultado! \n",
        "\n",
        "$x^{(2)}=$ \n",
        " $\\begin{equation}\n",
        "  \\begin{bmatrix}\n",
        "     {0}  \\\\   {5}\n",
        "  \\end{bmatrix}\n",
        "  \\end{equation}$\n",
        "\n",
        "Agora aplicando no método implementado neste trabalho:"
      ]
    },
    {
      "cell_type": "code",
      "metadata": {
        "id": "2o_DyYLy2nsf",
        "colab_type": "code",
        "colab": {}
      },
      "source": [
        "n = 2 #numero de elementos em x\n",
        "xi = np.array([-1, 6]) #vetor aproximação inicial\n",
        "F = np.array([[1,1,-5],[1,1,-25]]) #valores de F(x)\n",
        "e = 0.1 #erro e"
      ],
      "execution_count": null,
      "outputs": []
    },
    {
      "cell_type": "code",
      "metadata": {
        "id": "kmtxtkTo2dZZ",
        "colab_type": "code",
        "colab": {
          "base_uri": "https://localhost:8080/",
          "height": 70
        },
        "outputId": "b604e583-bc5d-4111-e2ba-8cd398334f13"
      },
      "source": [
        "x,k = newton(n,xi,F,e)\n",
        "print(\"Resultado do Método de Newton (\", k+1, \"iterações):\", x)"
      ],
      "execution_count": null,
      "outputs": [
        {
          "output_type": "stream",
          "text": [
            "Erro:  0.8571428571428571\n",
            "Erro:  0.0\n",
            "Resultado do Método de Newton ( 3 iterações): [0. 5.]\n"
          ],
          "name": "stdout"
        }
      ]
    },
    {
      "cell_type": "markdown",
      "metadata": {
        "colab_type": "text",
        "id": "QQmNS19U3DPa"
      },
      "source": [
        "## **MÉTODO DE AUTOVALORES E AUTOVETORES**"
      ]
    },
    {
      "cell_type": "markdown",
      "metadata": {
        "colab_type": "text",
        "id": "GEAoaC4HPZzT"
      },
      "source": [
        "### **1. Teoria**"
      ]
    },
    {
      "cell_type": "markdown",
      "metadata": {
        "id": "6LWAoYlDQb2X",
        "colab_type": "text"
      },
      "source": [
        "####Autovalores e autovetores\n",
        "\n",
        "Pode ser considerado como autovetor de $A_{n \\times n}$, o vetor existente dentro do espaço dos reais, não nulo de tal forma que se multiplicado por A este não tem a sua direção afetada, apenas mudando em sentido e magnitude. Ou seja, se tomarmos um escalar ${\\lambda} \\in  \\mathbb{C}$ temos a seguinte expressão:\n",
        " > ${Av = \\lambda v }$ \n",
        "\n",
        "onde v é autovetor de A e ${\\lambda}$ seu autovalor associado. Estes autovetores acabam resumindo as principais propriedades de sua matriz associada e são utilizados por exemplo no algoritmo PCA para fazer a redução de dimensionalidade da matriz. Além disso, caso subtrairmos o autovalor ${\\lambda}$ da diagonal principal de A, obtemos uma matriz singular. Sendo o mesmo que realizar a seguinte operação ${(A - \\lambda I)}$.\n",
        "De tal forma é possível calcular este autovalor ${\\lambda}$ descobrindo as raízes de um polinômio característico ${P(\\lambda)}$\n",
        "> ${Av = \\lambda v  = \\lambda I v  \\Longleftrightarrow (A - \\lambda I )v = \\overline{0}   \\Longleftrightarrow det(A - \\lambda I) =  0}$ \n",
        "\n",
        "É importante também entendermos o conceito de matrizes semelhantes. $A_{n \\times n}$ e $B_{n \\times n}$ são consideradas semelhantes se existir uma outra matriz $P_{n \\times n}$, que pode ser invertida, e a seguinte equação seja possível:\n",
        "> $B = P^{-1}AP$\n",
        "\n",
        "Matrizes semelhantes entre si possuem os mesmos autovalores.\n",
        "### Método das Potências \n",
        "\n",
        "Existem diversos métodos numéricos para se calcular todos os  autovalores e autovetores de uma matriz. Podemos entre eles citar a Decomposição QR e o Método de Francis. No entanto, muitas vezes descobrir apenas um autovalor e um autovetor específico já resolve o problema proposto e é por isso que o método das potências é utilizado.\n",
        "\n",
        "Este método tem como objetivo calcular qual o autovalor dominante $\\lambda_1$ e o autovetor associado a ele, da matriz $A_{n \\times n }$. Para isso é necessário que A possua como matriz semelhante uma matriz diagonal, sendo assim diagonalizável. Isto faz com que A tenha um conjunto de n autovetores v ${ \\in \\mathbb{R}^n}$ linearmente independentes entre si. É necessário também que os n autovalores associados a v sejam ordenados em módulo, de modo que exista um valor único maior que os outros:\n",
        " >$ |\\lambda_n| \\leq |\\cdots| \\leq |\\lambda_3| \\leq |\\lambda_2| < |\\lambda_1|$\n",
        "\n",
        "Através do quociente de Rayleigh é possível se obter informação de um autovetor e assim determinar qual seu autovalor associado. \n",
        ">$\\mu_{(x)} = {x \\times Ax \\over \\begin{Vmatrix}x\\end{Vmatrix}_2^2}$\n",
        "\n",
        "O método das potências consegue chegar no valor do autovalor dominante através de um processo iterativo e recursivo, onde:\n",
        "> $x^{(k)} = Ay^{(k-1)}$, \n",
        ">$y^{(k)} = {x^{(k)}\\over \\begin{Vmatrix}x\\end{Vmatrix}_2 }$,\n",
        ">$\\lambda_1^{(k)} = y^{(k)} \\times Ay^{(k)}$ \n",
        "\n",
        "É calculado o $y^0$ através da normalização do chute inicial $x^0$ e para $k = 1, \\cdots, n$ o $x^k$ e igual a multiplicação da matriz A pelo valor do y anterior. Em seguida $y^k$ é normalizado e é aplicado o rayleigh para se obter o autovalor relacionado a $y^k$. O procedimento é interrompido quando o numéro de iterações chega no k = kmax ou quando a diferença $ | \\lambda_1^{(K+1)} - \\lambda_1^{(K+1)} |  < \\epsilon $\n",
        "\n",
        "É interessante ver que o resultado é feito atráves de recursivas multiplicacoes dos vetores por A"
      ]
    },
    {
      "cell_type": "markdown",
      "metadata": {
        "colab_type": "text",
        "id": "P4840YkjPaNT"
      },
      "source": [
        "### **2. Códigos**"
      ]
    },
    {
      "cell_type": "markdown",
      "metadata": {
        "id": "LBQ1vtJjMQuL",
        "colab_type": "text"
      },
      "source": [
        "**I) Método das Potências**"
      ]
    },
    {
      "cell_type": "code",
      "metadata": {
        "id": "ObYNjFCEQZgW",
        "colab_type": "code",
        "colab": {}
      },
      "source": [
        "k = 1\n",
        "A = np.array([[-4,14,0],[-5,13,0],[-1,0,2]]) #matriz\n",
        "x = np.array([1.0,1.0,1.0]) #vetor aproximação inicial "
      ],
      "execution_count": null,
      "outputs": []
    },
    {
      "cell_type": "code",
      "metadata": {
        "id": "IjPsSox_fitj",
        "colab_type": "code",
        "colab": {}
      },
      "source": [
        "def power_method(A,x,epsilon,limit):\n",
        "  for k in range(limit):\n",
        "    x1 = np.dot(A,x) # xk = Ay\n",
        "    p = np.argmax(x1)\n",
        "    lam = x1[p]\n",
        "    x1 = x1/x1[p]\n",
        "    diff = x - x1  \n",
        "    if x1[p] == 0:\n",
        "      return 0, x\n",
        "    if (np.linalg.norm(diff) < epsilon):\n",
        "      return lam, x1\n",
        "    x = x1\n",
        "  return lam, x, k"
      ],
      "execution_count": null,
      "outputs": []
    },
    {
      "cell_type": "code",
      "metadata": {
        "id": "gl-B4zqmWghZ",
        "colab_type": "code",
        "colab": {
          "base_uri": "https://localhost:8080/",
          "height": 52
        },
        "outputId": "088e9a9d-054c-4cb4-c2b7-7a78b075e0fb"
      },
      "source": [
        "lam, x = power_method(A,x,10e-9,100)\n",
        "print(\"Autovalor:\", lam)\n",
        "print(\"Autovetor:\", x)"
      ],
      "execution_count": null,
      "outputs": [
        {
          "output_type": "stream",
          "text": [
            "Autovalor: 6.000000051089694\n",
            "Autovetor: [ 1.          0.71428572 -0.24999999]\n"
          ],
          "name": "stdout"
        }
      ]
    },
    {
      "cell_type": "markdown",
      "metadata": {
        "colab_type": "text",
        "id": "oNLZXQbjPaQy"
      },
      "source": [
        "### **3. Aplicação**"
      ]
    },
    {
      "cell_type": "markdown",
      "metadata": {
        "id": "tIGxKpVGylHy",
        "colab_type": "text"
      },
      "source": [
        "Um algoritmo extremamente famoso que utiliza o método das potências é o page rank utilizado pelo google para ordenar a relevância dos sites na internet.\n",
        "Se considerarmos um grafo G onde os vértices representam um site e as arestas o link entre eles, é possível gerar uma matriz de adjacência M, onde $a_{i,j} = 1$ se houver ligação entre os vértices J e I, ou $a_{i,j} = 0$ caso não exista essa ligação."
      ]
    },
    {
      "cell_type": "code",
      "metadata": {
        "id": "QVOEUECQzrDq",
        "colab_type": "code",
        "colab": {}
      },
      "source": [
        "M = np.array([[0.0,0.0,1.0,0.0],[1.0,0.0,1.0,0.0],[1.0,1.0,0.0,0.0],[0.0,0.0,1.0,0.0]]) # definição da matriz de adjascencia\n",
        "n = 4\n",
        "alpha = 0.8"
      ],
      "execution_count": null,
      "outputs": []
    },
    {
      "cell_type": "code",
      "metadata": {
        "id": "6G0cIVRozD4Y",
        "colab_type": "code",
        "colab": {}
      },
      "source": [
        "def pagerank(M,n,alpha):\n",
        "  P = stochastic_matrix(M, n) #matriz estocasticas\n",
        "  google_matrix = (alpha * P) + ((1-alpha)*(np.ones(n)/n)) # tranformando na matrix google\n",
        "  x0 = np.ones(n)/n\n",
        "  [x, k] = power_method_2(P,x0,10e-9,100000)\n",
        "  index = np.argsort(x)\n",
        "  for i in range(n-1, -1, -1):\n",
        "    print(\"Ranking %d:  Valor: %f Site: %d\" % (np.abs(i-n),  x[index[i]],index[i]+1 ) )"
      ],
      "execution_count": null,
      "outputs": []
    },
    {
      "cell_type": "markdown",
      "metadata": {
        "id": "VnVyG5GRz0Ja",
        "colab_type": "text"
      },
      "source": [
        "\n",
        "Para podermos utilizarmos a matriz M, é necessário transforma-la em uma matriz que armazena probabilidades, ou seja uma matriz estocástica, dividindo cada elemento pela soma total de sua coluna. Além disso é importante eliminar os sumidouros do grafo, adicionando uma constante $1\\over n$."
      ]
    },
    {
      "cell_type": "code",
      "metadata": {
        "id": "iB2Vat4FA_Bg",
        "colab_type": "code",
        "colab": {}
      },
      "source": [
        "def stochastic_matrix(M, n): #transforma a matriz M em uma estocástica\n",
        "  P = np.zeros([n,n])\n",
        "  for i in range(n):\n",
        "    if sum(M[:,i]):\n",
        "      P[i] = M[:,i]/sum(M[:,i])\n",
        "    else: \n",
        "      P[i] =  P[i] + (1.0/n) #adiciona uma constante para eliminar o sumidouro do grafo\n",
        "  P = P.T\n",
        "  return P"
      ],
      "execution_count": null,
      "outputs": []
    },
    {
      "cell_type": "markdown",
      "metadata": {
        "id": "mejG0ECH0HUc",
        "colab_type": "text"
      },
      "source": [
        "Para adaptar o método das potências ao processo de markov, algumas alterações no códigos foram feitas como a não necessidade de calcular o maior autovalor e a não necessidade da normalização do vetor x1.   \n"
      ]
    },
    {
      "cell_type": "code",
      "metadata": {
        "id": "Fhf446jjzSSN",
        "colab_type": "code",
        "colab": {}
      },
      "source": [
        "def power_method_2(A,x,epsilon,limit):\n",
        "  for k in range(limit):\n",
        "    x1 = np.dot(A,x) # xk = Ay\n",
        "    p = np.argmax(x1)\n",
        "    diff = x - x1  \n",
        "    if x1[p] == 0:\n",
        "      return x, k\n",
        "    if (np.linalg.norm(diff) < epsilon):\n",
        "      return x1, k\n",
        "    x = x1\n",
        "  return x, k"
      ],
      "execution_count": null,
      "outputs": []
    },
    {
      "cell_type": "code",
      "metadata": {
        "id": "NNUzpmUv5Pqu",
        "colab_type": "code",
        "colab": {
          "base_uri": "https://localhost:8080/",
          "height": 88
        },
        "outputId": "f9751bc7-6704-4bfd-9491-5d5c76430675"
      },
      "source": [
        "pagerank(M,n,alpha)"
      ],
      "execution_count": null,
      "outputs": [
        {
          "output_type": "stream",
          "text": [
            "Ranking 1:  Valor: 0.391304 Site: 3\n",
            "Ranking 2:  Valor: 0.260870 Site: 2\n",
            "Ranking 3:  Valor: 0.173913 Site: 4\n",
            "Ranking 4:  Valor: 0.173913 Site: 1\n"
          ],
          "name": "stdout"
        }
      ]
    }
  ]
}