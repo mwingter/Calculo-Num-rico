{
  "nbformat": 4,
  "nbformat_minor": 0,
  "metadata": {
    "colab": {
      "name": "Calculonumerico.ipynb",
      "provenance": [],
      "collapsed_sections": [],
      "include_colab_link": true
    },
    "kernelspec": {
      "name": "python3",
      "display_name": "Python 3"
    },
    "accelerator": "GPU"
  },
  "cells": [
    {
      "cell_type": "markdown",
      "metadata": {
        "id": "view-in-github",
        "colab_type": "text"
      },
      "source": [
        "<a href=\"https://colab.research.google.com/github/mwingter/Calculo-Numerico/blob/googleColab/Calculonumerico.ipynb\" target=\"_parent\"><img src=\"https://colab.research.google.com/assets/colab-badge.svg\" alt=\"Open In Colab\"/></a>"
      ]
    },
    {
      "cell_type": "markdown",
      "metadata": {
        "id": "Mj73WTYiKfvY",
        "colab_type": "text"
      },
      "source": [
        "Importações para rodar as bibliotecas necessárias --------------------------------------------\n"
      ]
    },
    {
      "cell_type": "code",
      "metadata": {
        "id": "rBFUoxm3KIZd",
        "colab_type": "code",
        "colab": {}
      },
      "source": [
        "import numpy as np"
      ],
      "execution_count": null,
      "outputs": []
    },
    {
      "cell_type": "code",
      "metadata": {
        "id": "IxEx5MLnK772",
        "colab_type": "code",
        "colab": {}
      },
      "source": [
        "n = 4 #dimensão do sistema\n",
        "A = np.array([[1,1,0,3],[2,1,-1,1],[3,-1,-1,2],[-1,2,3,-1]]) #matrix do sistema linear\n",
        "b = np.array([4,1,-3,4]) #vetor solução"
      ],
      "execution_count": null,
      "outputs": []
    },
    {
      "cell_type": "markdown",
      "metadata": {
        "id": "QUnmxRK2Kv23",
        "colab_type": "text"
      },
      "source": [
        "**Eliminação de Gauss --------------------**\n",
        "\n"
      ]
    },
    {
      "cell_type": "code",
      "metadata": {
        "id": "Dr9vs1EqN0RN",
        "colab_type": "code",
        "colab": {}
      },
      "source": [
        "def gauss_elimination(A, b, n):\n",
        "  for i in range(n):\n",
        "    pivot = A[i][i]\n",
        "    for k in range(i+1,n):\n",
        "      Mik = A[k][i] / pivot\n",
        "      b[k] = b[k] - Mik * b[i]\n",
        "      A[k] = A[k] - Mik * A[i] \n",
        "  \n",
        "  return A, b"
      ],
      "execution_count": null,
      "outputs": []
    },
    {
      "cell_type": "code",
      "metadata": {
        "id": "yHChK5lca3CE",
        "colab_type": "code",
        "colab": {}
      },
      "source": [
        "def retro_substitution(A, b, n):\n",
        "  x = np.zeros(n)\n",
        "  for i in range(n-1, -1,-1):\n",
        "    x[i] = b[i]\n",
        "    sum = 0 \n",
        "    j = n-1\n",
        "    while (j>i):\n",
        "      sum = sum + A[i][j] * x[j]\n",
        "      j = j-1  \n",
        "    x[i] = (x[i] - sum)/A[i][i]\n",
        "  \n",
        "  return x"
      ],
      "execution_count": null,
      "outputs": []
    },
    {
      "cell_type": "code",
      "metadata": {
        "id": "tFcc20E9WM7E",
        "colab_type": "code",
        "colab": {
          "base_uri": "https://localhost:8080/",
          "height": 33
        },
        "outputId": "adf42f0d-1b35-4b9c-e3d0-bfad71daf2fc"
      },
      "source": [
        "def gauss ():\n",
        "  C, blinha = gauss_elimination(A,b,n)\n",
        "  x = retro_substitution(C,blinha,n)\n",
        "  print(\"Resposta do sistema linear:\", x)\n",
        "\n",
        "gauss()"
      ],
      "execution_count": null,
      "outputs": [
        {
          "output_type": "stream",
          "text": [
            "Resposta do sistema linear: [-1.  2.  0.  1.]\n"
          ],
          "name": "stdout"
        }
      ]
    }
  ]
}